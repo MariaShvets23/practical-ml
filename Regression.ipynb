{
  "nbformat": 4,
  "nbformat_minor": 0,
  "metadata": {
    "colab": {
      "provenance": []
    },
    "kernelspec": {
      "name": "python3",
      "display_name": "Python 3"
    },
    "language_info": {
      "name": "python"
    }
  },
  "cells": [
    {
      "cell_type": "markdown",
      "source": [
        "Предсказываем стоимость машины по критериям"
      ],
      "metadata": {
        "id": "exqquqotGeGG"
      }
    },
    {
      "cell_type": "markdown",
      "source": [
        "# МНК"
      ],
      "metadata": {
        "id": "UasXroo5kwnR"
      }
    },
    {
      "cell_type": "code",
      "execution_count": null,
      "metadata": {
        "id": "wgEEsKGRFnHh"
      },
      "outputs": [],
      "source": [
        "import pandas as pd\n",
        "df_car_price=pd.read_csv(\"http://www.soshnikov.com/temp/data/CarPrice_Assignment.zip\")"
      ]
    },
    {
      "cell_type": "code",
      "source": [
        "import numpy as np\n",
        "import math"
      ],
      "metadata": {
        "id": "y5PAuuUKJFWD"
      },
      "execution_count": null,
      "outputs": []
    },
    {
      "cell_type": "markdown",
      "source": [
        "Функция ошибки."
      ],
      "metadata": {
        "id": "zKR4lw8oHUTD"
      }
    },
    {
      "cell_type": "code",
      "source": [
        "# Mean Square Errop - среднеквадратичное отклонение\n",
        "def MSE(x,y):\n",
        "  return np.mean((x-y)**2)\n",
        "\n",
        "# Mean Average Error - отклонение по модулю\n",
        "def MAvE(x,y):\n",
        "  return np.mean(np.abs(x-y))\n",
        "\n",
        "# Mean Average Percentage Error - средняя абсолютная процентная ошибка\n",
        "def MAPE(x,y):\n",
        "  return np.mean(np.abs(x-y))/np.mean(y) #x - предсказываемое, у - целевое"
      ],
      "metadata": {
        "id": "DNT7nrOSGWnS"
      },
      "execution_count": null,
      "outputs": []
    },
    {
      "cell_type": "markdown",
      "source": [
        "Посчитаем корреляцию."
      ],
      "metadata": {
        "id": "DQ7ZUSiuKT94"
      }
    },
    {
      "cell_type": "code",
      "source": [
        "df_car_price.corr()"
      ],
      "metadata": {
        "colab": {
          "base_uri": "https://localhost:8080/",
          "height": 605
        },
        "id": "XdFox-AJKYqo",
        "outputId": "73219c6d-27d2-4ccd-959a-ea12edb1d47d"
      },
      "execution_count": null,
      "outputs": [
        {
          "output_type": "stream",
          "name": "stderr",
          "text": [
            "<ipython-input-4-3504bf28c07d>:1: FutureWarning: The default value of numeric_only in DataFrame.corr is deprecated. In a future version, it will default to False. Select only valid columns or specify the value of numeric_only to silence this warning.\n",
            "  df_car_price.corr()\n"
          ]
        },
        {
          "output_type": "execute_result",
          "data": {
            "text/plain": [
              "                    car_ID  symboling  wheelbase  carlength  carwidth  \\\n",
              "car_ID            1.000000  -0.151621   0.129729   0.170636  0.052387   \n",
              "symboling        -0.151621   1.000000  -0.531954  -0.357612 -0.232919   \n",
              "wheelbase         0.129729  -0.531954   1.000000   0.874587  0.795144   \n",
              "carlength         0.170636  -0.357612   0.874587   1.000000  0.841118   \n",
              "carwidth          0.052387  -0.232919   0.795144   0.841118  1.000000   \n",
              "carheight         0.255960  -0.541038   0.589435   0.491029  0.279210   \n",
              "curbweight        0.071962  -0.227691   0.776386   0.877728  0.867032   \n",
              "enginesize       -0.033930  -0.105790   0.569329   0.683360  0.735433   \n",
              "boreratio         0.260064  -0.130051   0.488750   0.606454  0.559150   \n",
              "stroke           -0.160824  -0.008735   0.160959   0.129533  0.182942   \n",
              "compressionratio  0.150276  -0.178515   0.249786   0.158414  0.181129   \n",
              "horsepower       -0.015006   0.070873   0.353294   0.552623  0.640732   \n",
              "peakrpm          -0.203789   0.273606  -0.360469  -0.287242 -0.220012   \n",
              "citympg           0.015940  -0.035823  -0.470414  -0.670909 -0.642704   \n",
              "highwaympg        0.011255   0.034606  -0.544082  -0.704662 -0.677218   \n",
              "price            -0.109093  -0.079978   0.577816   0.682920  0.759325   \n",
              "\n",
              "                  carheight  curbweight  enginesize  boreratio    stroke  \\\n",
              "car_ID             0.255960    0.071962   -0.033930   0.260064 -0.160824   \n",
              "symboling         -0.541038   -0.227691   -0.105790  -0.130051 -0.008735   \n",
              "wheelbase          0.589435    0.776386    0.569329   0.488750  0.160959   \n",
              "carlength          0.491029    0.877728    0.683360   0.606454  0.129533   \n",
              "carwidth           0.279210    0.867032    0.735433   0.559150  0.182942   \n",
              "carheight          1.000000    0.295572    0.067149   0.171071 -0.055307   \n",
              "curbweight         0.295572    1.000000    0.850594   0.648480  0.168790   \n",
              "enginesize         0.067149    0.850594    1.000000   0.583774  0.203129   \n",
              "boreratio          0.171071    0.648480    0.583774   1.000000 -0.055909   \n",
              "stroke            -0.055307    0.168790    0.203129  -0.055909  1.000000   \n",
              "compressionratio   0.261214    0.151362    0.028971   0.005197  0.186110   \n",
              "horsepower        -0.108802    0.750739    0.809769   0.573677  0.080940   \n",
              "peakrpm           -0.320411   -0.266243   -0.244660  -0.254976 -0.067964   \n",
              "citympg           -0.048640   -0.757414   -0.653658  -0.584532 -0.042145   \n",
              "highwaympg        -0.107358   -0.797465   -0.677470  -0.587012 -0.043931   \n",
              "price              0.119336    0.835305    0.874145   0.553173  0.079443   \n",
              "\n",
              "                  compressionratio  horsepower   peakrpm   citympg  \\\n",
              "car_ID                    0.150276   -0.015006 -0.203789  0.015940   \n",
              "symboling                -0.178515    0.070873  0.273606 -0.035823   \n",
              "wheelbase                 0.249786    0.353294 -0.360469 -0.470414   \n",
              "carlength                 0.158414    0.552623 -0.287242 -0.670909   \n",
              "carwidth                  0.181129    0.640732 -0.220012 -0.642704   \n",
              "carheight                 0.261214   -0.108802 -0.320411 -0.048640   \n",
              "curbweight                0.151362    0.750739 -0.266243 -0.757414   \n",
              "enginesize                0.028971    0.809769 -0.244660 -0.653658   \n",
              "boreratio                 0.005197    0.573677 -0.254976 -0.584532   \n",
              "stroke                    0.186110    0.080940 -0.067964 -0.042145   \n",
              "compressionratio          1.000000   -0.204326 -0.435741  0.324701   \n",
              "horsepower               -0.204326    1.000000  0.131073 -0.801456   \n",
              "peakrpm                  -0.435741    0.131073  1.000000 -0.113544   \n",
              "citympg                   0.324701   -0.801456 -0.113544  1.000000   \n",
              "highwaympg                0.265201   -0.770544 -0.054275  0.971337   \n",
              "price                     0.067984    0.808139 -0.085267 -0.685751   \n",
              "\n",
              "                  highwaympg     price  \n",
              "car_ID              0.011255 -0.109093  \n",
              "symboling           0.034606 -0.079978  \n",
              "wheelbase          -0.544082  0.577816  \n",
              "carlength          -0.704662  0.682920  \n",
              "carwidth           -0.677218  0.759325  \n",
              "carheight          -0.107358  0.119336  \n",
              "curbweight         -0.797465  0.835305  \n",
              "enginesize         -0.677470  0.874145  \n",
              "boreratio          -0.587012  0.553173  \n",
              "stroke             -0.043931  0.079443  \n",
              "compressionratio    0.265201  0.067984  \n",
              "horsepower         -0.770544  0.808139  \n",
              "peakrpm            -0.054275 -0.085267  \n",
              "citympg             0.971337 -0.685751  \n",
              "highwaympg          1.000000 -0.697599  \n",
              "price              -0.697599  1.000000  "
            ],
            "text/html": [
              "\n",
              "  <div id=\"df-b21aaf68-ff49-4c6a-a597-d76d901a6a4a\" class=\"colab-df-container\">\n",
              "    <div>\n",
              "<style scoped>\n",
              "    .dataframe tbody tr th:only-of-type {\n",
              "        vertical-align: middle;\n",
              "    }\n",
              "\n",
              "    .dataframe tbody tr th {\n",
              "        vertical-align: top;\n",
              "    }\n",
              "\n",
              "    .dataframe thead th {\n",
              "        text-align: right;\n",
              "    }\n",
              "</style>\n",
              "<table border=\"1\" class=\"dataframe\">\n",
              "  <thead>\n",
              "    <tr style=\"text-align: right;\">\n",
              "      <th></th>\n",
              "      <th>car_ID</th>\n",
              "      <th>symboling</th>\n",
              "      <th>wheelbase</th>\n",
              "      <th>carlength</th>\n",
              "      <th>carwidth</th>\n",
              "      <th>carheight</th>\n",
              "      <th>curbweight</th>\n",
              "      <th>enginesize</th>\n",
              "      <th>boreratio</th>\n",
              "      <th>stroke</th>\n",
              "      <th>compressionratio</th>\n",
              "      <th>horsepower</th>\n",
              "      <th>peakrpm</th>\n",
              "      <th>citympg</th>\n",
              "      <th>highwaympg</th>\n",
              "      <th>price</th>\n",
              "    </tr>\n",
              "  </thead>\n",
              "  <tbody>\n",
              "    <tr>\n",
              "      <th>car_ID</th>\n",
              "      <td>1.000000</td>\n",
              "      <td>-0.151621</td>\n",
              "      <td>0.129729</td>\n",
              "      <td>0.170636</td>\n",
              "      <td>0.052387</td>\n",
              "      <td>0.255960</td>\n",
              "      <td>0.071962</td>\n",
              "      <td>-0.033930</td>\n",
              "      <td>0.260064</td>\n",
              "      <td>-0.160824</td>\n",
              "      <td>0.150276</td>\n",
              "      <td>-0.015006</td>\n",
              "      <td>-0.203789</td>\n",
              "      <td>0.015940</td>\n",
              "      <td>0.011255</td>\n",
              "      <td>-0.109093</td>\n",
              "    </tr>\n",
              "    <tr>\n",
              "      <th>symboling</th>\n",
              "      <td>-0.151621</td>\n",
              "      <td>1.000000</td>\n",
              "      <td>-0.531954</td>\n",
              "      <td>-0.357612</td>\n",
              "      <td>-0.232919</td>\n",
              "      <td>-0.541038</td>\n",
              "      <td>-0.227691</td>\n",
              "      <td>-0.105790</td>\n",
              "      <td>-0.130051</td>\n",
              "      <td>-0.008735</td>\n",
              "      <td>-0.178515</td>\n",
              "      <td>0.070873</td>\n",
              "      <td>0.273606</td>\n",
              "      <td>-0.035823</td>\n",
              "      <td>0.034606</td>\n",
              "      <td>-0.079978</td>\n",
              "    </tr>\n",
              "    <tr>\n",
              "      <th>wheelbase</th>\n",
              "      <td>0.129729</td>\n",
              "      <td>-0.531954</td>\n",
              "      <td>1.000000</td>\n",
              "      <td>0.874587</td>\n",
              "      <td>0.795144</td>\n",
              "      <td>0.589435</td>\n",
              "      <td>0.776386</td>\n",
              "      <td>0.569329</td>\n",
              "      <td>0.488750</td>\n",
              "      <td>0.160959</td>\n",
              "      <td>0.249786</td>\n",
              "      <td>0.353294</td>\n",
              "      <td>-0.360469</td>\n",
              "      <td>-0.470414</td>\n",
              "      <td>-0.544082</td>\n",
              "      <td>0.577816</td>\n",
              "    </tr>\n",
              "    <tr>\n",
              "      <th>carlength</th>\n",
              "      <td>0.170636</td>\n",
              "      <td>-0.357612</td>\n",
              "      <td>0.874587</td>\n",
              "      <td>1.000000</td>\n",
              "      <td>0.841118</td>\n",
              "      <td>0.491029</td>\n",
              "      <td>0.877728</td>\n",
              "      <td>0.683360</td>\n",
              "      <td>0.606454</td>\n",
              "      <td>0.129533</td>\n",
              "      <td>0.158414</td>\n",
              "      <td>0.552623</td>\n",
              "      <td>-0.287242</td>\n",
              "      <td>-0.670909</td>\n",
              "      <td>-0.704662</td>\n",
              "      <td>0.682920</td>\n",
              "    </tr>\n",
              "    <tr>\n",
              "      <th>carwidth</th>\n",
              "      <td>0.052387</td>\n",
              "      <td>-0.232919</td>\n",
              "      <td>0.795144</td>\n",
              "      <td>0.841118</td>\n",
              "      <td>1.000000</td>\n",
              "      <td>0.279210</td>\n",
              "      <td>0.867032</td>\n",
              "      <td>0.735433</td>\n",
              "      <td>0.559150</td>\n",
              "      <td>0.182942</td>\n",
              "      <td>0.181129</td>\n",
              "      <td>0.640732</td>\n",
              "      <td>-0.220012</td>\n",
              "      <td>-0.642704</td>\n",
              "      <td>-0.677218</td>\n",
              "      <td>0.759325</td>\n",
              "    </tr>\n",
              "    <tr>\n",
              "      <th>carheight</th>\n",
              "      <td>0.255960</td>\n",
              "      <td>-0.541038</td>\n",
              "      <td>0.589435</td>\n",
              "      <td>0.491029</td>\n",
              "      <td>0.279210</td>\n",
              "      <td>1.000000</td>\n",
              "      <td>0.295572</td>\n",
              "      <td>0.067149</td>\n",
              "      <td>0.171071</td>\n",
              "      <td>-0.055307</td>\n",
              "      <td>0.261214</td>\n",
              "      <td>-0.108802</td>\n",
              "      <td>-0.320411</td>\n",
              "      <td>-0.048640</td>\n",
              "      <td>-0.107358</td>\n",
              "      <td>0.119336</td>\n",
              "    </tr>\n",
              "    <tr>\n",
              "      <th>curbweight</th>\n",
              "      <td>0.071962</td>\n",
              "      <td>-0.227691</td>\n",
              "      <td>0.776386</td>\n",
              "      <td>0.877728</td>\n",
              "      <td>0.867032</td>\n",
              "      <td>0.295572</td>\n",
              "      <td>1.000000</td>\n",
              "      <td>0.850594</td>\n",
              "      <td>0.648480</td>\n",
              "      <td>0.168790</td>\n",
              "      <td>0.151362</td>\n",
              "      <td>0.750739</td>\n",
              "      <td>-0.266243</td>\n",
              "      <td>-0.757414</td>\n",
              "      <td>-0.797465</td>\n",
              "      <td>0.835305</td>\n",
              "    </tr>\n",
              "    <tr>\n",
              "      <th>enginesize</th>\n",
              "      <td>-0.033930</td>\n",
              "      <td>-0.105790</td>\n",
              "      <td>0.569329</td>\n",
              "      <td>0.683360</td>\n",
              "      <td>0.735433</td>\n",
              "      <td>0.067149</td>\n",
              "      <td>0.850594</td>\n",
              "      <td>1.000000</td>\n",
              "      <td>0.583774</td>\n",
              "      <td>0.203129</td>\n",
              "      <td>0.028971</td>\n",
              "      <td>0.809769</td>\n",
              "      <td>-0.244660</td>\n",
              "      <td>-0.653658</td>\n",
              "      <td>-0.677470</td>\n",
              "      <td>0.874145</td>\n",
              "    </tr>\n",
              "    <tr>\n",
              "      <th>boreratio</th>\n",
              "      <td>0.260064</td>\n",
              "      <td>-0.130051</td>\n",
              "      <td>0.488750</td>\n",
              "      <td>0.606454</td>\n",
              "      <td>0.559150</td>\n",
              "      <td>0.171071</td>\n",
              "      <td>0.648480</td>\n",
              "      <td>0.583774</td>\n",
              "      <td>1.000000</td>\n",
              "      <td>-0.055909</td>\n",
              "      <td>0.005197</td>\n",
              "      <td>0.573677</td>\n",
              "      <td>-0.254976</td>\n",
              "      <td>-0.584532</td>\n",
              "      <td>-0.587012</td>\n",
              "      <td>0.553173</td>\n",
              "    </tr>\n",
              "    <tr>\n",
              "      <th>stroke</th>\n",
              "      <td>-0.160824</td>\n",
              "      <td>-0.008735</td>\n",
              "      <td>0.160959</td>\n",
              "      <td>0.129533</td>\n",
              "      <td>0.182942</td>\n",
              "      <td>-0.055307</td>\n",
              "      <td>0.168790</td>\n",
              "      <td>0.203129</td>\n",
              "      <td>-0.055909</td>\n",
              "      <td>1.000000</td>\n",
              "      <td>0.186110</td>\n",
              "      <td>0.080940</td>\n",
              "      <td>-0.067964</td>\n",
              "      <td>-0.042145</td>\n",
              "      <td>-0.043931</td>\n",
              "      <td>0.079443</td>\n",
              "    </tr>\n",
              "    <tr>\n",
              "      <th>compressionratio</th>\n",
              "      <td>0.150276</td>\n",
              "      <td>-0.178515</td>\n",
              "      <td>0.249786</td>\n",
              "      <td>0.158414</td>\n",
              "      <td>0.181129</td>\n",
              "      <td>0.261214</td>\n",
              "      <td>0.151362</td>\n",
              "      <td>0.028971</td>\n",
              "      <td>0.005197</td>\n",
              "      <td>0.186110</td>\n",
              "      <td>1.000000</td>\n",
              "      <td>-0.204326</td>\n",
              "      <td>-0.435741</td>\n",
              "      <td>0.324701</td>\n",
              "      <td>0.265201</td>\n",
              "      <td>0.067984</td>\n",
              "    </tr>\n",
              "    <tr>\n",
              "      <th>horsepower</th>\n",
              "      <td>-0.015006</td>\n",
              "      <td>0.070873</td>\n",
              "      <td>0.353294</td>\n",
              "      <td>0.552623</td>\n",
              "      <td>0.640732</td>\n",
              "      <td>-0.108802</td>\n",
              "      <td>0.750739</td>\n",
              "      <td>0.809769</td>\n",
              "      <td>0.573677</td>\n",
              "      <td>0.080940</td>\n",
              "      <td>-0.204326</td>\n",
              "      <td>1.000000</td>\n",
              "      <td>0.131073</td>\n",
              "      <td>-0.801456</td>\n",
              "      <td>-0.770544</td>\n",
              "      <td>0.808139</td>\n",
              "    </tr>\n",
              "    <tr>\n",
              "      <th>peakrpm</th>\n",
              "      <td>-0.203789</td>\n",
              "      <td>0.273606</td>\n",
              "      <td>-0.360469</td>\n",
              "      <td>-0.287242</td>\n",
              "      <td>-0.220012</td>\n",
              "      <td>-0.320411</td>\n",
              "      <td>-0.266243</td>\n",
              "      <td>-0.244660</td>\n",
              "      <td>-0.254976</td>\n",
              "      <td>-0.067964</td>\n",
              "      <td>-0.435741</td>\n",
              "      <td>0.131073</td>\n",
              "      <td>1.000000</td>\n",
              "      <td>-0.113544</td>\n",
              "      <td>-0.054275</td>\n",
              "      <td>-0.085267</td>\n",
              "    </tr>\n",
              "    <tr>\n",
              "      <th>citympg</th>\n",
              "      <td>0.015940</td>\n",
              "      <td>-0.035823</td>\n",
              "      <td>-0.470414</td>\n",
              "      <td>-0.670909</td>\n",
              "      <td>-0.642704</td>\n",
              "      <td>-0.048640</td>\n",
              "      <td>-0.757414</td>\n",
              "      <td>-0.653658</td>\n",
              "      <td>-0.584532</td>\n",
              "      <td>-0.042145</td>\n",
              "      <td>0.324701</td>\n",
              "      <td>-0.801456</td>\n",
              "      <td>-0.113544</td>\n",
              "      <td>1.000000</td>\n",
              "      <td>0.971337</td>\n",
              "      <td>-0.685751</td>\n",
              "    </tr>\n",
              "    <tr>\n",
              "      <th>highwaympg</th>\n",
              "      <td>0.011255</td>\n",
              "      <td>0.034606</td>\n",
              "      <td>-0.544082</td>\n",
              "      <td>-0.704662</td>\n",
              "      <td>-0.677218</td>\n",
              "      <td>-0.107358</td>\n",
              "      <td>-0.797465</td>\n",
              "      <td>-0.677470</td>\n",
              "      <td>-0.587012</td>\n",
              "      <td>-0.043931</td>\n",
              "      <td>0.265201</td>\n",
              "      <td>-0.770544</td>\n",
              "      <td>-0.054275</td>\n",
              "      <td>0.971337</td>\n",
              "      <td>1.000000</td>\n",
              "      <td>-0.697599</td>\n",
              "    </tr>\n",
              "    <tr>\n",
              "      <th>price</th>\n",
              "      <td>-0.109093</td>\n",
              "      <td>-0.079978</td>\n",
              "      <td>0.577816</td>\n",
              "      <td>0.682920</td>\n",
              "      <td>0.759325</td>\n",
              "      <td>0.119336</td>\n",
              "      <td>0.835305</td>\n",
              "      <td>0.874145</td>\n",
              "      <td>0.553173</td>\n",
              "      <td>0.079443</td>\n",
              "      <td>0.067984</td>\n",
              "      <td>0.808139</td>\n",
              "      <td>-0.085267</td>\n",
              "      <td>-0.685751</td>\n",
              "      <td>-0.697599</td>\n",
              "      <td>1.000000</td>\n",
              "    </tr>\n",
              "  </tbody>\n",
              "</table>\n",
              "</div>\n",
              "    <div class=\"colab-df-buttons\">\n",
              "\n",
              "  <div class=\"colab-df-container\">\n",
              "    <button class=\"colab-df-convert\" onclick=\"convertToInteractive('df-b21aaf68-ff49-4c6a-a597-d76d901a6a4a')\"\n",
              "            title=\"Convert this dataframe to an interactive table.\"\n",
              "            style=\"display:none;\">\n",
              "\n",
              "  <svg xmlns=\"http://www.w3.org/2000/svg\" height=\"24px\" viewBox=\"0 -960 960 960\">\n",
              "    <path d=\"M120-120v-720h720v720H120Zm60-500h600v-160H180v160Zm220 220h160v-160H400v160Zm0 220h160v-160H400v160ZM180-400h160v-160H180v160Zm440 0h160v-160H620v160ZM180-180h160v-160H180v160Zm440 0h160v-160H620v160Z\"/>\n",
              "  </svg>\n",
              "    </button>\n",
              "\n",
              "  <style>\n",
              "    .colab-df-container {\n",
              "      display:flex;\n",
              "      gap: 12px;\n",
              "    }\n",
              "\n",
              "    .colab-df-convert {\n",
              "      background-color: #E8F0FE;\n",
              "      border: none;\n",
              "      border-radius: 50%;\n",
              "      cursor: pointer;\n",
              "      display: none;\n",
              "      fill: #1967D2;\n",
              "      height: 32px;\n",
              "      padding: 0 0 0 0;\n",
              "      width: 32px;\n",
              "    }\n",
              "\n",
              "    .colab-df-convert:hover {\n",
              "      background-color: #E2EBFA;\n",
              "      box-shadow: 0px 1px 2px rgba(60, 64, 67, 0.3), 0px 1px 3px 1px rgba(60, 64, 67, 0.15);\n",
              "      fill: #174EA6;\n",
              "    }\n",
              "\n",
              "    .colab-df-buttons div {\n",
              "      margin-bottom: 4px;\n",
              "    }\n",
              "\n",
              "    [theme=dark] .colab-df-convert {\n",
              "      background-color: #3B4455;\n",
              "      fill: #D2E3FC;\n",
              "    }\n",
              "\n",
              "    [theme=dark] .colab-df-convert:hover {\n",
              "      background-color: #434B5C;\n",
              "      box-shadow: 0px 1px 3px 1px rgba(0, 0, 0, 0.15);\n",
              "      filter: drop-shadow(0px 1px 2px rgba(0, 0, 0, 0.3));\n",
              "      fill: #FFFFFF;\n",
              "    }\n",
              "  </style>\n",
              "\n",
              "    <script>\n",
              "      const buttonEl =\n",
              "        document.querySelector('#df-b21aaf68-ff49-4c6a-a597-d76d901a6a4a button.colab-df-convert');\n",
              "      buttonEl.style.display =\n",
              "        google.colab.kernel.accessAllowed ? 'block' : 'none';\n",
              "\n",
              "      async function convertToInteractive(key) {\n",
              "        const element = document.querySelector('#df-b21aaf68-ff49-4c6a-a597-d76d901a6a4a');\n",
              "        const dataTable =\n",
              "          await google.colab.kernel.invokeFunction('convertToInteractive',\n",
              "                                                    [key], {});\n",
              "        if (!dataTable) return;\n",
              "\n",
              "        const docLinkHtml = 'Like what you see? Visit the ' +\n",
              "          '<a target=\"_blank\" href=https://colab.research.google.com/notebooks/data_table.ipynb>data table notebook</a>'\n",
              "          + ' to learn more about interactive tables.';\n",
              "        element.innerHTML = '';\n",
              "        dataTable['output_type'] = 'display_data';\n",
              "        await google.colab.output.renderOutput(dataTable, element);\n",
              "        const docLink = document.createElement('div');\n",
              "        docLink.innerHTML = docLinkHtml;\n",
              "        element.appendChild(docLink);\n",
              "      }\n",
              "    </script>\n",
              "  </div>\n",
              "\n",
              "\n",
              "<div id=\"df-37c5fa58-7d9a-4d39-a264-4baea72a0585\">\n",
              "  <button class=\"colab-df-quickchart\" onclick=\"quickchart('df-37c5fa58-7d9a-4d39-a264-4baea72a0585')\"\n",
              "            title=\"Suggest charts\"\n",
              "            style=\"display:none;\">\n",
              "\n",
              "<svg xmlns=\"http://www.w3.org/2000/svg\" height=\"24px\"viewBox=\"0 0 24 24\"\n",
              "     width=\"24px\">\n",
              "    <g>\n",
              "        <path d=\"M19 3H5c-1.1 0-2 .9-2 2v14c0 1.1.9 2 2 2h14c1.1 0 2-.9 2-2V5c0-1.1-.9-2-2-2zM9 17H7v-7h2v7zm4 0h-2V7h2v10zm4 0h-2v-4h2v4z\"/>\n",
              "    </g>\n",
              "</svg>\n",
              "  </button>\n",
              "\n",
              "<style>\n",
              "  .colab-df-quickchart {\n",
              "      --bg-color: #E8F0FE;\n",
              "      --fill-color: #1967D2;\n",
              "      --hover-bg-color: #E2EBFA;\n",
              "      --hover-fill-color: #174EA6;\n",
              "      --disabled-fill-color: #AAA;\n",
              "      --disabled-bg-color: #DDD;\n",
              "  }\n",
              "\n",
              "  [theme=dark] .colab-df-quickchart {\n",
              "      --bg-color: #3B4455;\n",
              "      --fill-color: #D2E3FC;\n",
              "      --hover-bg-color: #434B5C;\n",
              "      --hover-fill-color: #FFFFFF;\n",
              "      --disabled-bg-color: #3B4455;\n",
              "      --disabled-fill-color: #666;\n",
              "  }\n",
              "\n",
              "  .colab-df-quickchart {\n",
              "    background-color: var(--bg-color);\n",
              "    border: none;\n",
              "    border-radius: 50%;\n",
              "    cursor: pointer;\n",
              "    display: none;\n",
              "    fill: var(--fill-color);\n",
              "    height: 32px;\n",
              "    padding: 0;\n",
              "    width: 32px;\n",
              "  }\n",
              "\n",
              "  .colab-df-quickchart:hover {\n",
              "    background-color: var(--hover-bg-color);\n",
              "    box-shadow: 0 1px 2px rgba(60, 64, 67, 0.3), 0 1px 3px 1px rgba(60, 64, 67, 0.15);\n",
              "    fill: var(--button-hover-fill-color);\n",
              "  }\n",
              "\n",
              "  .colab-df-quickchart-complete:disabled,\n",
              "  .colab-df-quickchart-complete:disabled:hover {\n",
              "    background-color: var(--disabled-bg-color);\n",
              "    fill: var(--disabled-fill-color);\n",
              "    box-shadow: none;\n",
              "  }\n",
              "\n",
              "  .colab-df-spinner {\n",
              "    border: 2px solid var(--fill-color);\n",
              "    border-color: transparent;\n",
              "    border-bottom-color: var(--fill-color);\n",
              "    animation:\n",
              "      spin 1s steps(1) infinite;\n",
              "  }\n",
              "\n",
              "  @keyframes spin {\n",
              "    0% {\n",
              "      border-color: transparent;\n",
              "      border-bottom-color: var(--fill-color);\n",
              "      border-left-color: var(--fill-color);\n",
              "    }\n",
              "    20% {\n",
              "      border-color: transparent;\n",
              "      border-left-color: var(--fill-color);\n",
              "      border-top-color: var(--fill-color);\n",
              "    }\n",
              "    30% {\n",
              "      border-color: transparent;\n",
              "      border-left-color: var(--fill-color);\n",
              "      border-top-color: var(--fill-color);\n",
              "      border-right-color: var(--fill-color);\n",
              "    }\n",
              "    40% {\n",
              "      border-color: transparent;\n",
              "      border-right-color: var(--fill-color);\n",
              "      border-top-color: var(--fill-color);\n",
              "    }\n",
              "    60% {\n",
              "      border-color: transparent;\n",
              "      border-right-color: var(--fill-color);\n",
              "    }\n",
              "    80% {\n",
              "      border-color: transparent;\n",
              "      border-right-color: var(--fill-color);\n",
              "      border-bottom-color: var(--fill-color);\n",
              "    }\n",
              "    90% {\n",
              "      border-color: transparent;\n",
              "      border-bottom-color: var(--fill-color);\n",
              "    }\n",
              "  }\n",
              "</style>\n",
              "\n",
              "  <script>\n",
              "    async function quickchart(key) {\n",
              "      const quickchartButtonEl =\n",
              "        document.querySelector('#' + key + ' button');\n",
              "      quickchartButtonEl.disabled = true;  // To prevent multiple clicks.\n",
              "      quickchartButtonEl.classList.add('colab-df-spinner');\n",
              "      try {\n",
              "        const charts = await google.colab.kernel.invokeFunction(\n",
              "            'suggestCharts', [key], {});\n",
              "      } catch (error) {\n",
              "        console.error('Error during call to suggestCharts:', error);\n",
              "      }\n",
              "      quickchartButtonEl.classList.remove('colab-df-spinner');\n",
              "      quickchartButtonEl.classList.add('colab-df-quickchart-complete');\n",
              "    }\n",
              "    (() => {\n",
              "      let quickchartButtonEl =\n",
              "        document.querySelector('#df-37c5fa58-7d9a-4d39-a264-4baea72a0585 button');\n",
              "      quickchartButtonEl.style.display =\n",
              "        google.colab.kernel.accessAllowed ? 'block' : 'none';\n",
              "    })();\n",
              "  </script>\n",
              "</div>\n",
              "    </div>\n",
              "  </div>\n"
            ],
            "application/vnd.google.colaboratory.intrinsic+json": {
              "type": "dataframe",
              "summary": "{\n  \"name\": \"df_car_price\",\n  \"rows\": 16,\n  \"fields\": [\n    {\n      \"column\": \"car_ID\",\n      \"properties\": {\n        \"dtype\": \"number\",\n        \"std\": 0.2808714118842664,\n        \"min\": -0.20378920000005973,\n        \"max\": 1.0,\n        \"num_unique_values\": 16,\n        \"samples\": [\n          1.0,\n          -0.15162113729637228,\n          0.25596004153103874\n        ],\n        \"semantic_type\": \"\",\n        \"description\": \"\"\n      }\n    },\n    {\n      \"column\": \"symboling\",\n      \"properties\": {\n        \"dtype\": \"number\",\n        \"std\": 0.35506610697175256,\n        \"min\": -0.5410381997685207,\n        \"max\": 1.0,\n        \"num_unique_values\": 16,\n        \"samples\": [\n          -0.15162113729637228,\n          1.0,\n          -0.5410381997685207\n        ],\n        \"semantic_type\": \"\",\n        \"description\": \"\"\n      }\n    },\n    {\n      \"column\": \"wheelbase\",\n      \"properties\": {\n        \"dtype\": \"number\",\n        \"std\": 0.5194990625436807,\n        \"min\": -0.544081923408828,\n        \"max\": 1.0,\n        \"num_unique_values\": 16,\n        \"samples\": [\n          0.12972878341484767,\n          -0.5319536816234925,\n          0.5894347616933517\n        ],\n        \"semantic_type\": \"\",\n        \"description\": \"\"\n      }\n    },\n    {\n      \"column\": \"carlength\",\n      \"properties\": {\n        \"dtype\": \"number\",\n        \"std\": 0.5612996593838157,\n        \"min\": -0.7046616035425505,\n        \"max\": 1.0,\n        \"num_unique_values\": 16,\n        \"samples\": [\n          0.17063639284312138,\n          -0.35761152261729123,\n          0.4910294575042151\n        ],\n        \"semantic_type\": \"\",\n        \"description\": \"\"\n      }\n    },\n    {\n      \"column\": \"carwidth\",\n      \"properties\": {\n        \"dtype\": \"number\",\n        \"std\": 0.5424973457846991,\n        \"min\": -0.677217917311713,\n        \"max\": 1.0,\n        \"num_unique_values\": 16,\n        \"samples\": [\n          0.0523866050963308,\n          -0.23291906097426712,\n          0.27921032110974997\n        ],\n        \"semantic_type\": \"\",\n        \"description\": \"\"\n      }\n    },\n    {\n      \"column\": \"carheight\",\n      \"properties\": {\n        \"dtype\": \"number\",\n        \"std\": 0.3665250249815906,\n        \"min\": -0.5410381997685207,\n        \"max\": 1.0,\n        \"num_unique_values\": 16,\n        \"samples\": [\n          0.25596004153103874,\n          -0.5410381997685207,\n          1.0\n        ],\n        \"semantic_type\": \"\",\n        \"description\": \"\"\n      }\n    },\n    {\n      \"column\": \"curbweight\",\n      \"properties\": {\n        \"dtype\": \"number\",\n        \"std\": 0.5936967212187975,\n        \"min\": -0.7974647922811803,\n        \"max\": 1.0,\n        \"num_unique_values\": 16,\n        \"samples\": [\n          0.07196156390574206,\n          -0.2276905884774526,\n          0.29557172619485034\n        ],\n        \"semantic_type\": \"\",\n        \"description\": \"\"\n      }\n    },\n    {\n      \"column\": \"enginesize\",\n      \"properties\": {\n        \"dtype\": \"number\",\n        \"std\": 0.5444470382515345,\n        \"min\": -0.6774699078386522,\n        \"max\": 1.0,\n        \"num_unique_values\": 16,\n        \"samples\": [\n          -0.033929840290219705,\n          -0.10578970928966426,\n          0.06714874180270604\n        ],\n        \"semantic_type\": \"\",\n        \"description\": \"\"\n      }\n    },\n    {\n      \"column\": \"boreratio\",\n      \"properties\": {\n        \"dtype\": \"number\",\n        \"std\": 0.4664521204371343,\n        \"min\": -0.5870117842417776,\n        \"max\": 1.0,\n        \"num_unique_values\": 16,\n        \"samples\": [\n          0.2600636802399305,\n          -0.13005135968493117,\n          0.17107092150966066\n        ],\n        \"semantic_type\": \"\",\n        \"description\": \"\"\n      }\n    },\n    {\n      \"column\": \"stroke\",\n      \"properties\": {\n        \"dtype\": \"number\",\n        \"std\": 0.2634271412870015,\n        \"min\": -0.16082361863306802,\n        \"max\": 1.0,\n        \"num_unique_values\": 16,\n        \"samples\": [\n          -0.16082361863306802,\n          -0.008735140673331062,\n          -0.05530667369878668\n        ],\n        \"semantic_type\": \"\",\n        \"description\": \"\"\n      }\n    },\n    {\n      \"column\": \"compressionratio\",\n      \"properties\": {\n        \"dtype\": \"number\",\n        \"std\": 0.3063388633360574,\n        \"min\": -0.43574051445619716,\n        \"max\": 1.0,\n        \"num_unique_values\": 16,\n        \"samples\": [\n          0.15027590581695913,\n          -0.17851508438647604,\n          0.2612142263199395\n        ],\n        \"semantic_type\": \"\",\n        \"description\": \"\"\n      }\n    },\n    {\n      \"column\": \"horsepower\",\n      \"properties\": {\n        \"dtype\": \"number\",\n        \"std\": 0.5430789261409901,\n        \"min\": -0.8014561756662708,\n        \"max\": 1.0,\n        \"num_unique_values\": 16,\n        \"samples\": [\n          -0.015005567064178604,\n          0.07087272404244964,\n          -0.10880205898413536\n        ],\n        \"semantic_type\": \"\",\n        \"description\": \"\"\n      }\n    },\n    {\n      \"column\": \"peakrpm\",\n      \"properties\": {\n        \"dtype\": \"number\",\n        \"std\": 0.3433121559014409,\n        \"min\": -0.43574051445619716,\n        \"max\": 1.0,\n        \"num_unique_values\": 16,\n        \"samples\": [\n          -0.20378920000005973,\n          0.27360624512880943,\n          -0.3204107238101862\n        ],\n        \"semantic_type\": \"\",\n        \"description\": \"\"\n      }\n    },\n    {\n      \"column\": \"citympg\",\n      \"properties\": {\n        \"dtype\": \"number\",\n        \"std\": 0.5755679749277423,\n        \"min\": -0.8014561756662708,\n        \"max\": 1.0,\n        \"num_unique_values\": 16,\n        \"samples\": [\n          0.01594003704566367,\n          -0.03582262794554099,\n          -0.04863962869509337\n        ],\n        \"semantic_type\": \"\",\n        \"description\": \"\"\n      }\n    },\n    {\n      \"column\": \"highwaympg\",\n      \"properties\": {\n        \"dtype\": \"number\",\n        \"std\": 0.5824624656843961,\n        \"min\": -0.7974647922811803,\n        \"max\": 1.0,\n        \"num_unique_values\": 16,\n        \"samples\": [\n          0.011255318469501882,\n          0.034606000711919854,\n          -0.10735762697679854\n        ],\n        \"semantic_type\": \"\",\n        \"description\": \"\"\n      }\n    },\n    {\n      \"column\": \"price\",\n      \"properties\": {\n        \"dtype\": \"number\",\n        \"std\": 0.5431301646983946,\n        \"min\": -0.6975990916465573,\n        \"max\": 1.0,\n        \"num_unique_values\": 16,\n        \"samples\": [\n          -0.10909333948229938,\n          -0.07997822464270359,\n          0.11933622657049496\n        ],\n        \"semantic_type\": \"\",\n        \"description\": \"\"\n      }\n    }\n  ]\n}"
            }
          },
          "metadata": {},
          "execution_count": 4
        }
      ]
    },
    {
      "cell_type": "code",
      "source": [
        "import seaborn as sns\n",
        "sns.heatmap(df_car_price.corr())"
      ],
      "metadata": {
        "colab": {
          "base_uri": "https://localhost:8080/",
          "height": 603
        },
        "id": "y05xyuC_MvIO",
        "outputId": "416bcbdb-f8c5-463f-b4e0-608c9e0a4b62"
      },
      "execution_count": null,
      "outputs": [
        {
          "output_type": "stream",
          "name": "stderr",
          "text": [
            "<ipython-input-5-58c19f6eee74>:2: FutureWarning: The default value of numeric_only in DataFrame.corr is deprecated. In a future version, it will default to False. Select only valid columns or specify the value of numeric_only to silence this warning.\n",
            "  sns.heatmap(df_car_price.corr())\n"
          ]
        },
        {
          "output_type": "execute_result",
          "data": {
            "text/plain": [
              "<Axes: >"
            ]
          },
          "metadata": {},
          "execution_count": 5
        },
        {
          "output_type": "display_data",
          "data": {
            "text/plain": [
              "<Figure size 640x480 with 2 Axes>"
            ],
            "image/png": "[encoded data removed]"
          },
          "metadata": {}
        }
      ]
    },
    {
      "cell_type": "markdown",
      "source": [
        "Интересует не вся корреляционная матрица, а только коррелирующие с ценой параметры."
      ],
      "metadata": {
        "id": "Gg_WkisqLKj0"
      }
    },
    {
      "cell_type": "code",
      "source": [
        "corr_with_price=df_car_price.corr()['price']\n",
        "corr_with_price"
      ],
      "metadata": {
        "colab": {
          "base_uri": "https://localhost:8080/"
        },
        "id": "qaHq2iSwK4Ag",
        "outputId": "a9f476a7-4e1f-4045-e752-9f465370b071"
      },
      "execution_count": null,
      "outputs": [
        {
          "output_type": "stream",
          "name": "stderr",
          "text": [
            "<ipython-input-6-7b63d4d22aa9>:1: FutureWarning: The default value of numeric_only in DataFrame.corr is deprecated. In a future version, it will default to False. Select only valid columns or specify the value of numeric_only to silence this warning.\n",
            "  corr_with_price=df_car_price.corr()['price']\n"
          ]
        },
        {
          "output_type": "execute_result",
          "data": {
            "text/plain": [
              "car_ID             -0.109093\n",
              "symboling          -0.079978\n",
              "wheelbase           0.577816\n",
              "carlength           0.682920\n",
              "carwidth            0.759325\n",
              "carheight           0.119336\n",
              "curbweight          0.835305\n",
              "enginesize          0.874145\n",
              "boreratio           0.553173\n",
              "stroke              0.079443\n",
              "compressionratio    0.067984\n",
              "horsepower          0.808139\n",
              "peakrpm            -0.085267\n",
              "citympg            -0.685751\n",
              "highwaympg         -0.697599\n",
              "price               1.000000\n",
              "Name: price, dtype: float64"
            ]
          },
          "metadata": {},
          "execution_count": 6
        }
      ]
    },
    {
      "cell_type": "code",
      "source": [
        "import matplotlib.pyplot as plt\n",
        "plt.scatter(df_car_price['enginesize'], df_car_price['price'])"
      ],
      "metadata": {
        "colab": {
          "base_uri": "https://localhost:8080/",
          "height": 447
        },
        "id": "Lfdqdjg5PUOO",
        "outputId": "14289a75-cbb5-4077-f223-94ef5f2369c5"
      },
      "execution_count": null,
      "outputs": [
        {
          "output_type": "execute_result",
          "data": {
            "text/plain": [
              "<matplotlib.collections.PathCollection at 0x7db2e62bf4f0>"
            ]
          },
          "metadata": {},
          "execution_count": 7
        },
        {
          "output_type": "display_data",
          "data": {
            "text/plain": [
              "<Figure size 640x480 with 1 Axes>"
            ],
            "image/png": "[encoded data removed]"
          },
          "metadata": {}
        }
      ]
    },
    {
      "cell_type": "markdown",
      "source": [
        "Далее требуется рассчитать оптимальный угол наклона прямой. Используем МНК"
      ],
      "metadata": {
        "id": "3hUu4n7vjbt2"
      }
    },
    {
      "cell_type": "code",
      "source": [
        "X=df_car_price['enginesize']\n",
        "Y=df_car_price['price']\n"
      ],
      "metadata": {
        "id": "StAgkeXPjhaV"
      },
      "execution_count": null,
      "outputs": []
    },
    {
      "cell_type": "markdown",
      "source": [
        "![image.png](data:image/png;base64,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)"
      ],
      "metadata": {
        "id": "1DiwOM4NlUr_"
      }
    },
    {
      "cell_type": "code",
      "source": [
        "n=len(X)\n",
        "a=(X.sum()*Y.sum()-n*(X*Y).sum())/(X.sum()**2-n*(X**2).sum())\n",
        "b=(Y.sum()-a*X.sum())/n\n",
        "print(a, b)"
      ],
      "metadata": {
        "colab": {
          "base_uri": "https://localhost:8080/"
        },
        "id": "afhb86pxlTHw",
        "outputId": "9288f4c1-0079-4cb6-a8bc-50c1e850bbff"
      },
      "execution_count": null,
      "outputs": [
        {
          "output_type": "stream",
          "name": "stdout",
          "text": [
            "167.698416393172 -8005.445531145186\n"
          ]
        }
      ]
    },
    {
      "cell_type": "code",
      "source": [
        "x=np.array([50, 300]) #граничные значения х\n",
        "plt.scatter(df_car_price['enginesize'], df_car_price['price'])\n",
        "plt.plot(x,a*x+b)"
      ],
      "metadata": {
        "colab": {
          "base_uri": "https://localhost:8080/",
          "height": 447
        },
        "id": "dpECOgNQnAAB",
        "outputId": "370e8569-1bff-40e4-d4cd-4a4263133bb9"
      },
      "execution_count": null,
      "outputs": [
        {
          "output_type": "execute_result",
          "data": {
            "text/plain": [
              "[<matplotlib.lines.Line2D at 0x7db2e480ecb0>]"
            ]
          },
          "metadata": {},
          "execution_count": 10
        },
        {
          "output_type": "display_data",
          "data": {
            "text/plain": [
              "<Figure size 640x480 with 1 Axes>"
            ],
            "image/png": "[encoded data removed]"
          },
          "metadata": {}
        }
      ]
    },
    {
      "cell_type": "code",
      "source": [
        "MAvE(a*X+b,Y)"
      ],
      "metadata": {
        "colab": {
          "base_uri": "https://localhost:8080/"
        },
        "id": "m5KTW-NTkZfa",
        "outputId": "2cffd510-ece8-43aa-f445-2f40c04d06d9"
      },
      "execution_count": null,
      "outputs": [
        {
          "output_type": "execute_result",
          "data": {
            "text/plain": [
              "2815.022353836412"
            ]
          },
          "metadata": {},
          "execution_count": 11
        }
      ]
    },
    {
      "cell_type": "markdown",
      "source": [
        "# Градиентный спуск (Dradient Desent)"
      ],
      "metadata": {
        "id": "67JlN7zHkutw"
      }
    },
    {
      "cell_type": "markdown",
      "source": [
        "Посчитаем производную: численные значения."
      ],
      "metadata": {
        "id": "y1lERC_PiTlv"
      }
    },
    {
      "cell_type": "code",
      "source": [
        "def d(f,x, dx=0.01):\n",
        "  return (f(x+dx)-f(x))/dx\n",
        "# X может быть вектором\n",
        "d(lambda x: x*X+b,X)\n",
        "# производная по х"
      ],
      "metadata": {
        "colab": {
          "base_uri": "https://localhost:8080/"
        },
        "id": "my2fo4G5k9f5",
        "outputId": "df29bc99-e802-4f80-e4ee-4048281f26cd"
      },
      "execution_count": null,
      "outputs": [
        {
          "output_type": "execute_result",
          "data": {
            "text/plain": [
              "0      130.0\n",
              "1      130.0\n",
              "2      152.0\n",
              "3      109.0\n",
              "4      136.0\n",
              "       ...  \n",
              "200    141.0\n",
              "201    141.0\n",
              "202    173.0\n",
              "203    145.0\n",
              "204    141.0\n",
              "Name: enginesize, Length: 205, dtype: float64"
            ]
          },
          "metadata": {},
          "execution_count": 12
        }
      ]
    },
    {
      "cell_type": "code",
      "source": [
        "a=b=0 # начальные значения\n",
        "eta=0.00005 # шаг обучения\n",
        "for i in range(20000):\n",
        "  if i%1000==0:\n",
        "    print(f\"a={a}, b={b}, MSE={MSE(a*X+b,Y)}\")\n",
        "  # меняем a и b - вычитаем eta * на производную функции ошибки по а или b\n",
        "  a=a-eta*d(lambda t: MSE(t*X+b,Y), a)\n",
        "  b=b-eta*d(lambda t: MSE(a*X+t,Y), b)"
      ],
      "metadata": {
        "colab": {
          "base_uri": "https://localhost:8080/"
        },
        "id": "CkPyXveyjEYc",
        "outputId": "a8b5d5c4-dbf7-479b-efd8-d20a011a92a7"
      },
      "execution_count": null,
      "outputs": [
        {
          "output_type": "stream",
          "name": "stdout",
          "text": [
            "a=0, b=0, MSE=239781479.49114093\n",
            "a=111.26957909135139, b=-77.6531013350933, MSE=21062729.463133473\n",
            "a=111.81258032124467, b=-153.9471151153182, MSE=20946222.144718744\n",
            "a=112.35035162562475, b=-229.50630181254775, MSE=20831947.38648691\n",
            "a=112.88294337658176, b=-304.337738928422, MSE=20719862.398483776\n",
            "a=113.41040546113578, b=-378.4484357947111, MSE=20609925.210969184\n",
            "a=113.93278728567005, b=-451.845334233902, MSE=20502094.658688214\n",
            "a=114.45013778096015, b=-524.5353092074206, MSE=20396330.365452603\n",
            "a=114.96250540617812, b=-596.5251694597299, MSE=20292592.72901486\n",
            "a=115.469938153978, b=-667.8216581584314, MSE=20190842.906228956\n",
            "a=115.97248355464966, b=-738.4314535234107, MSE=20091042.798502527\n",
            "a=116.47018868083079, b=-808.3611694521817, MSE=19993155.037524577\n",
            "a=116.9631001517356, b=-877.6173561430892, MSE=19897142.97126144\n",
            "a=117.45126413747617, b=-946.2065007017909, MSE=19802970.65023611\n",
            "a=117.93472636349476, b=-1014.1350277583659, MSE=19710602.814047746\n",
            "a=118.41353211501578, b=-1081.4093000605144, MSE=19620004.878174383\n",
            "a=118.88772624075386, b=-1148.0356190731545, MSE=19531142.92101202\n",
            "a=119.35735315782921, b=-1214.0202255692507, MSE=19443983.67116617\n",
            "a=119.82245685538274, b=-1279.3693002156726, MSE=19358494.494986344\n",
            "a=120.2830808987095, b=-1344.0889641468937, MSE=19274643.384347845\n"
          ]
        }
      ]
    },
    {
      "cell_type": "markdown",
      "source": [
        "К нужным а и b не пришли из-за слишком большого разброса значений (price и enginesize), поэтому масштабируем."
      ],
      "metadata": {
        "id": "P11bsub9ngfY"
      }
    },
    {
      "cell_type": "code",
      "source": [
        "X_scaled=(X-X.mean())/X.std() # деленное на среднеквадратичное отклонение\n",
        "Y_scaled=(Y-Y.mean())/Y.std()\n",
        "plt.scatter(X_scaled,Y_scaled) # такой же набор точек, только смаштабированный"
      ],
      "metadata": {
        "colab": {
          "base_uri": "https://localhost:8080/",
          "height": 447
        },
        "id": "YhRQgh8SmvkV",
        "outputId": "0b9edd9c-1277-4525-b334-f49785d36705"
      },
      "execution_count": null,
      "outputs": [
        {
          "output_type": "execute_result",
          "data": {
            "text/plain": [
              "<matplotlib.collections.PathCollection at 0x7db31f464af0>"
            ]
          },
          "metadata": {},
          "execution_count": 14
        },
        {
          "output_type": "display_data",
          "data": {
            "text/plain": [
              "<Figure size 640x480 with 1 Axes>"
            ],
            "image/png": "[encoded data removed]"
          },
          "metadata": {}
        }
      ]
    },
    {
      "cell_type": "code",
      "source": [
        "a_scaled=b_scaled=0\n",
        "eta=0.2\n",
        "for i in range(10):\n",
        "  print(f\"a_scaled={a_scaled}, b_scaled={b_scaled}, MSE={MSE(a_scaled*X_scaled+b_scaled,Y_scaled)}\")\n",
        "  a_scaled=a_scaled-eta*d(lambda t: MSE(t*X_scaled+b_scaled,Y_scaled), a_scaled)\n",
        "  b_scaled=b_scaled-eta*d(lambda t: MSE(a_scaled*X_scaled+t,Y_scaled), b_scaled)"
      ],
      "metadata": {
        "colab": {
          "base_uri": "https://localhost:8080/"
        },
        "id": "tHTbFThGpaY3",
        "outputId": "3abcc5d2-713a-4083-c3a2-00d0c783cb28"
      },
      "execution_count": null,
      "outputs": [
        {
          "output_type": "stream",
          "name": "stdout",
          "text": [
            "a_scaled=0, b_scaled=0, MSE=0.995121951219512\n",
            "a_scaled=0.3459620287121967, b_scaled=-0.002000000000002, MSE=0.5123404535676902\n",
            "a_scaled=0.5542142938004146, b_scaled=-0.00320000000000209, MSE=0.3365867497799792\n",
            "a_scaled=0.6795719987364468, b_scaled=-0.00392000000000059, MSE=0.2724095410314124\n",
            "a_scaled=0.7550312220979405, b_scaled=-0.0043519999999996895, MSE=0.24885804960804675\n",
            "a_scaled=0.8004539936238336, b_scaled=-0.00461119999999926, MSE=0.24014538367913263\n",
            "a_scaled=0.8277962863374694, b_scaled=-0.004766719999999558, MSE=0.23688070225913432\n",
            "a_scaled=0.8442550127807025, b_scaled=-0.0048600319999991815, MSE=0.23563293603330218\n",
            "a_scaled=0.8541623632348239, b_scaled=-0.004916019199999733, MSE=0.23514179196802876\n",
            "a_scaled=0.8601261049228165, b_scaled=-0.004949611519999841, MSE=0.23494033852138593\n"
          ]
        }
      ]
    },
    {
      "cell_type": "markdown",
      "source": [
        "Учет нескольких признаков"
      ],
      "metadata": {
        "id": "j-O_MO5Ls2e3"
      }
    },
    {
      "cell_type": "code",
      "source": [
        "X=df_car_price[['enginesize', 'highwaympg', 'wheelbase']]\n",
        "Y=df_car_price['price']\n",
        "X_scaled=(X-X.mean())/X.std()\n",
        "Y_scaled=(Y-Y.mean())/Y.std()"
      ],
      "metadata": {
        "id": "ZnVLt4JDs72f"
      },
      "execution_count": null,
      "outputs": []
    },
    {
      "cell_type": "code",
      "source": [
        "a_scaled=np.random.normal(size=3) # рандомный вектор с нормальным распределением\n",
        "b_scaled=0\n",
        "eta=0.2\n",
        "for i in range(100):\n",
        "  if i%10==0:\n",
        "    print(f\"MSE={MSE(X_scaled@a_scaled+b_scaled,Y_scaled)}\")\n",
        "  a_scaled=a_scaled-eta*((X_scaled@a_scaled+b_scaled-Y_scaled)*X_scaled.T).mean(axis=1)\n",
        "  b_scaled=b_scaled-eta*(X_scaled@a_scaled-Y_scaled).mean() # по-другому посчитали производную"
      ],
      "metadata": {
        "colab": {
          "base_uri": "https://localhost:8080/"
        },
        "id": "wY_qpRWmt4Yh",
        "outputId": "e3028410-c37b-4b80-eab5-44dcc0bcb389"
      },
      "execution_count": null,
      "outputs": [
        {
          "output_type": "stream",
          "name": "stdout",
          "text": [
            "MSE=3.4570940869570213\n",
            "MSE=0.673591610968048\n",
            "MSE=0.3293670964600805\n",
            "MSE=0.2415691354719341\n",
            "MSE=0.21867400386900043\n",
            "MSE=0.21263425928235052\n",
            "MSE=0.21103156784964436\n",
            "MSE=0.2106050212937915\n",
            "MSE=0.2104913306017159\n",
            "MSE=0.21046100545104762\n"
          ]
        }
      ]
    },
    {
      "cell_type": "code",
      "source": [
        "MAvE(Y_scaled, X_scaled@a_scaled+b_scaled)*Y.std()"
      ],
      "metadata": {
        "colab": {
          "base_uri": "https://localhost:8080/"
        },
        "id": "Q_BqZN-ZyLNj",
        "outputId": "943e122b-c9c0-44e4-c9dd-867e642856a5"
      },
      "execution_count": null,
      "outputs": [
        {
          "output_type": "execute_result",
          "data": {
            "text/plain": [
              "2619.0718900307343"
            ]
          },
          "metadata": {},
          "execution_count": 18
        }
      ]
    },
    {
      "cell_type": "markdown",
      "source": [
        "# Scikit-Learn"
      ],
      "metadata": {
        "id": "BRcQONdr2euf"
      }
    },
    {
      "cell_type": "markdown",
      "source": [
        "То же самое, только не руками, а с использованием специальной библиотеки Scikit-Learn."
      ],
      "metadata": {
        "id": "p7jC2QAL2V9y"
      }
    },
    {
      "cell_type": "code",
      "source": [
        "from sklearn.linear_model import LinearRegression\n",
        "features=['enginesize', 'highwaympg', 'wheelbase']\n",
        "X=df_car_price[features]\n",
        "Y=df_car_price['price']\n",
        "model=LinearRegression()\n",
        "model.fit(X,Y)"
      ],
      "metadata": {
        "id": "KSp3EYx420cG",
        "colab": {
          "base_uri": "https://localhost:8080/",
          "height": 74
        },
        "outputId": "c1dbbea5-0595-458e-d7f8-65472169e67a"
      },
      "execution_count": null,
      "outputs": [
        {
          "output_type": "execute_result",
          "data": {
            "text/plain": [
              "LinearRegression()"
            ],
            "text/html": [
              "<style>#sk-container-id-1 {color: black;background-color: white;}#sk-container-id-1 pre{padding: 0;}#sk-container-id-1 div.sk-toggleable {background-color: white;}#sk-container-id-1 label.sk-toggleable__label {cursor: pointer;display: block;width: 100%;margin-bottom: 0;padding: 0.3em;box-sizing: border-box;text-align: center;}#sk-container-id-1 label.sk-toggleable__label-arrow:before {content: \"▸\";float: left;margin-right: 0.25em;color: #696969;}#sk-container-id-1 label.sk-toggleable__label-arrow:hover:before {color: black;}#sk-container-id-1 div.sk-estimator:hover label.sk-toggleable__label-arrow:before {color: black;}#sk-container-id-1 div.sk-toggleable__content {max-height: 0;max-width: 0;overflow: hidden;text-align: left;background-color: #f0f8ff;}#sk-container-id-1 div.sk-toggleable__content pre {margin: 0.2em;color: black;border-radius: 0.25em;background-color: #f0f8ff;}#sk-container-id-1 input.sk-toggleable__control:checked~div.sk-toggleable__content {max-height: 200px;max-width: 100%;overflow: auto;}#sk-container-id-1 input.sk-toggleable__control:checked~label.sk-toggleable__label-arrow:before {content: \"▾\";}#sk-container-id-1 div.sk-estimator input.sk-toggleable__control:checked~label.sk-toggleable__label {background-color: #d4ebff;}#sk-container-id-1 div.sk-label input.sk-toggleable__control:checked~label.sk-toggleable__label {background-color: #d4ebff;}#sk-container-id-1 input.sk-hidden--visually {border: 0;clip: rect(1px 1px 1px 1px);clip: rect(1px, 1px, 1px, 1px);height: 1px;margin: -1px;overflow: hidden;padding: 0;position: absolute;width: 1px;}#sk-container-id-1 div.sk-estimator {font-family: monospace;background-color: #f0f8ff;border: 1px dotted black;border-radius: 0.25em;box-sizing: border-box;margin-bottom: 0.5em;}#sk-container-id-1 div.sk-estimator:hover {background-color: #d4ebff;}#sk-container-id-1 div.sk-parallel-item::after {content: \"\";width: 100%;border-bottom: 1px solid gray;flex-grow: 1;}#sk-container-id-1 div.sk-label:hover label.sk-toggleable__label {background-color: #d4ebff;}#sk-container-id-1 div.sk-serial::before {content: \"\";position: absolute;border-left: 1px solid gray;box-sizing: border-box;top: 0;bottom: 0;left: 50%;z-index: 0;}#sk-container-id-1 div.sk-serial {display: flex;flex-direction: column;align-items: center;background-color: white;padding-right: 0.2em;padding-left: 0.2em;position: relative;}#sk-container-id-1 div.sk-item {position: relative;z-index: 1;}#sk-container-id-1 div.sk-parallel {display: flex;align-items: stretch;justify-content: center;background-color: white;position: relative;}#sk-container-id-1 div.sk-item::before, #sk-container-id-1 div.sk-parallel-item::before {content: \"\";position: absolute;border-left: 1px solid gray;box-sizing: border-box;top: 0;bottom: 0;left: 50%;z-index: -1;}#sk-container-id-1 div.sk-parallel-item {display: flex;flex-direction: column;z-index: 1;position: relative;background-color: white;}#sk-container-id-1 div.sk-parallel-item:first-child::after {align-self: flex-end;width: 50%;}#sk-container-id-1 div.sk-parallel-item:last-child::after {align-self: flex-start;width: 50%;}#sk-container-id-1 div.sk-parallel-item:only-child::after {width: 0;}#sk-container-id-1 div.sk-dashed-wrapped {border: 1px dashed gray;margin: 0 0.4em 0.5em 0.4em;box-sizing: border-box;padding-bottom: 0.4em;background-color: white;}#sk-container-id-1 div.sk-label label {font-family: monospace;font-weight: bold;display: inline-block;line-height: 1.2em;}#sk-container-id-1 div.sk-label-container {text-align: center;}#sk-container-id-1 div.sk-container {/* jupyter's `normalize.less` sets `[hidden] { display: none; }` but bootstrap.min.css set `[hidden] { display: none !important; }` so we also need the `!important` here to be able to override the default hidden behavior on the sphinx rendered scikit-learn.org. See: https://github.com/scikit-learn/scikit-learn/issues/21755 */display: inline-block !important;position: relative;}#sk-container-id-1 div.sk-text-repr-fallback {display: none;}</style><div id=\"sk-container-id-1\" class=\"sk-top-container\"><div class=\"sk-text-repr-fallback\"><pre>LinearRegression()</pre><b>In a Jupyter environment, please rerun this cell to show the HTML representation or trust the notebook. <br />On GitHub, the HTML representation is unable to render, please try loading this page with nbviewer.org.</b></div><div class=\"sk-container\" hidden><div class=\"sk-item\"><div class=\"sk-estimator sk-toggleable\"><input class=\"sk-toggleable__control sk-hidden--visually\" id=\"sk-estimator-id-1\" type=\"checkbox\" checked><label for=\"sk-estimator-id-1\" class=\"sk-toggleable__label sk-toggleable__label-arrow\">LinearRegression</label><div class=\"sk-toggleable__content\"><pre>LinearRegression()</pre></div></div></div></div></div>"
            ]
          },
          "metadata": {},
          "execution_count": 19
        }
      ]
    },
    {
      "cell_type": "markdown",
      "source": [
        "Получили модель для предсказаний. Предсказываем:"
      ],
      "metadata": {
        "id": "7Q7pbLr63xAN"
      }
    },
    {
      "cell_type": "code",
      "source": [
        " Y_pred=model.predict(X)\n",
        " MAvE(Y_pred, Y)"
      ],
      "metadata": {
        "id": "a9nB2DS836RT",
        "colab": {
          "base_uri": "https://localhost:8080/"
        },
        "outputId": "173d6bac-8891-448a-a076-2ebcf5488273"
      },
      "execution_count": null,
      "outputs": [
        {
          "output_type": "execute_result",
          "data": {
            "text/plain": [
              "2618.4023664841657"
            ]
          },
          "metadata": {},
          "execution_count": 20
        }
      ]
    },
    {
      "cell_type": "markdown",
      "source": [
        "Поделим датасет на тестовый и обучающий"
      ],
      "metadata": {
        "id": "bH42HsEF5Fcl"
      }
    },
    {
      "cell_type": "code",
      "source": [
        "from sklearn.model_selection import train_test_split\n",
        "train, test= train_test_split(df_car_price, test_size=0.2, shuffle=True)\n",
        "#shuffle - перемешать перед разбиением\n",
        "X_train= train[features]\n",
        "Y_train= train['price']\n",
        "X_test= test[features]\n",
        "Y_test= test['price']"
      ],
      "metadata": {
        "id": "F-Zg1PjZ5Qi6"
      },
      "execution_count": null,
      "outputs": []
    },
    {
      "cell_type": "code",
      "source": [
        "model=LinearRegression().fit(X_train,Y_train)\n",
        "Y_pred=model.predict(X_test)\n",
        "MAvE(Y_pred, Y_test)"
      ],
      "metadata": {
        "id": "WYYqX7x1-3-c",
        "colab": {
          "base_uri": "https://localhost:8080/"
        },
        "outputId": "c576cfa6-34a9-4f56-957e-4cf7099e7a0b"
      },
      "execution_count": null,
      "outputs": [
        {
          "output_type": "execute_result",
          "data": {
            "text/plain": [
              "3050.071584493284"
            ]
          },
          "metadata": {},
          "execution_count": 22
        }
      ]
    },
    {
      "cell_type": "code",
      "source": [
        "from sklearn.metrics import mean_absolute_error, mean_absolute_percentage_error, mean_squared_error\n",
        "\n",
        "print(f\"MAE={mean_absolute_error(Y_test, Y_pred)}\")\n",
        "print(f\"MAPE={mean_absolute_percentage_error(Y_test, Y_pred)}\")\n",
        "print(f\"MSE={mean_squared_error(Y_test, Y_pred)}\")\n",
        "print(f\"RMSE={math.sqrt(mean_squared_error(Y_test, Y_pred))}\")"
      ],
      "metadata": {
        "id": "X-aVBF5HAZNo",
        "colab": {
          "base_uri": "https://localhost:8080/"
        },
        "outputId": "9fcde246-3449-456d-e44b-e35783d3bd2d"
      },
      "execution_count": null,
      "outputs": [
        {
          "output_type": "stream",
          "name": "stdout",
          "text": [
            "MAE=3050.071584493284\n",
            "MAPE=0.2421718696304985\n",
            "MSE=17010468.608508423\n",
            "RMSE=4124.374935491246\n"
          ]
        }
      ]
    },
    {
      "cell_type": "markdown",
      "source": [
        "# Учет нечисловых признаков"
      ],
      "metadata": {
        "id": "u6IR0uZzDQ4A"
      }
    },
    {
      "cell_type": "markdown",
      "source": [
        "#### Категориальные"
      ],
      "metadata": {
        "id": "8G7SY5p9LoGq"
      }
    },
    {
      "cell_type": "markdown",
      "source": [
        "Рассмотрим aspiration и carbody"
      ],
      "metadata": {
        "id": "5Rh84O6aHWh_"
      }
    },
    {
      "cell_type": "code",
      "source": [
        "df_car_price['carbody'].value_counts()"
      ],
      "metadata": {
        "id": "0JdGj9xEDVIz",
        "colab": {
          "base_uri": "https://localhost:8080/"
        },
        "outputId": "38b19ca4-6e7f-4c6b-f527-2f225c817305"
      },
      "execution_count": null,
      "outputs": [
        {
          "output_type": "execute_result",
          "data": {
            "text/plain": [
              "sedan          96\n",
              "hatchback      70\n",
              "wagon          25\n",
              "hardtop         8\n",
              "convertible     6\n",
              "Name: carbody, dtype: int64"
            ]
          },
          "metadata": {},
          "execution_count": 24
        }
      ]
    },
    {
      "cell_type": "code",
      "source": [
        "df_car_price.groupby('carbody').mean()['price']"
      ],
      "metadata": {
        "id": "I5HZWJCdIKXg",
        "colab": {
          "base_uri": "https://localhost:8080/"
        },
        "outputId": "029020d0-8df7-46f4-a8f1-65807195ff71"
      },
      "execution_count": null,
      "outputs": [
        {
          "output_type": "stream",
          "name": "stderr",
          "text": [
            "<ipython-input-25-a432f268ea1d>:1: FutureWarning: The default value of numeric_only in DataFrameGroupBy.mean is deprecated. In a future version, numeric_only will default to False. Either specify numeric_only or select only columns which should be valid for the function.\n",
            "  df_car_price.groupby('carbody').mean()['price']\n"
          ]
        },
        {
          "output_type": "execute_result",
          "data": {
            "text/plain": [
              "carbody\n",
              "convertible    21890.500000\n",
              "hardtop        22208.500000\n",
              "hatchback      10376.652386\n",
              "sedan          14344.270833\n",
              "wagon          12371.960000\n",
              "Name: price, dtype: float64"
            ]
          },
          "metadata": {},
          "execution_count": 25
        }
      ]
    },
    {
      "cell_type": "code",
      "source": [
        "import sklearn\n",
        "ohe=sklearn.preprocessing.OneHotEncoder()\n",
        "ohe.fit(df_car_price[['carbody', 'aspiration']])\n",
        "# fit - обучиться на данных"
      ],
      "metadata": {
        "id": "E_2Yf_WwJi7z",
        "colab": {
          "base_uri": "https://localhost:8080/",
          "height": 74
        },
        "outputId": "75579acf-5a97-4fb5-c694-59eae1790787"
      },
      "execution_count": null,
      "outputs": [
        {
          "output_type": "execute_result",
          "data": {
            "text/plain": [
              "OneHotEncoder()"
            ],
            "text/html": [
              "<style>#sk-container-id-2 {color: black;background-color: white;}#sk-container-id-2 pre{padding: 0;}#sk-container-id-2 div.sk-toggleable {background-color: white;}#sk-container-id-2 label.sk-toggleable__label {cursor: pointer;display: block;width: 100%;margin-bottom: 0;padding: 0.3em;box-sizing: border-box;text-align: center;}#sk-container-id-2 label.sk-toggleable__label-arrow:before {content: \"▸\";float: left;margin-right: 0.25em;color: #696969;}#sk-container-id-2 label.sk-toggleable__label-arrow:hover:before {color: black;}#sk-container-id-2 div.sk-estimator:hover label.sk-toggleable__label-arrow:before {color: black;}#sk-container-id-2 div.sk-toggleable__content {max-height: 0;max-width: 0;overflow: hidden;text-align: left;background-color: #f0f8ff;}#sk-container-id-2 div.sk-toggleable__content pre {margin: 0.2em;color: black;border-radius: 0.25em;background-color: #f0f8ff;}#sk-container-id-2 input.sk-toggleable__control:checked~div.sk-toggleable__content {max-height: 200px;max-width: 100%;overflow: auto;}#sk-container-id-2 input.sk-toggleable__control:checked~label.sk-toggleable__label-arrow:before {content: \"▾\";}#sk-container-id-2 div.sk-estimator input.sk-toggleable__control:checked~label.sk-toggleable__label {background-color: #d4ebff;}#sk-container-id-2 div.sk-label input.sk-toggleable__control:checked~label.sk-toggleable__label {background-color: #d4ebff;}#sk-container-id-2 input.sk-hidden--visually {border: 0;clip: rect(1px 1px 1px 1px);clip: rect(1px, 1px, 1px, 1px);height: 1px;margin: -1px;overflow: hidden;padding: 0;position: absolute;width: 1px;}#sk-container-id-2 div.sk-estimator {font-family: monospace;background-color: #f0f8ff;border: 1px dotted black;border-radius: 0.25em;box-sizing: border-box;margin-bottom: 0.5em;}#sk-container-id-2 div.sk-estimator:hover {background-color: #d4ebff;}#sk-container-id-2 div.sk-parallel-item::after {content: \"\";width: 100%;border-bottom: 1px solid gray;flex-grow: 1;}#sk-container-id-2 div.sk-label:hover label.sk-toggleable__label {background-color: #d4ebff;}#sk-container-id-2 div.sk-serial::before {content: \"\";position: absolute;border-left: 1px solid gray;box-sizing: border-box;top: 0;bottom: 0;left: 50%;z-index: 0;}#sk-container-id-2 div.sk-serial {display: flex;flex-direction: column;align-items: center;background-color: white;padding-right: 0.2em;padding-left: 0.2em;position: relative;}#sk-container-id-2 div.sk-item {position: relative;z-index: 1;}#sk-container-id-2 div.sk-parallel {display: flex;align-items: stretch;justify-content: center;background-color: white;position: relative;}#sk-container-id-2 div.sk-item::before, #sk-container-id-2 div.sk-parallel-item::before {content: \"\";position: absolute;border-left: 1px solid gray;box-sizing: border-box;top: 0;bottom: 0;left: 50%;z-index: -1;}#sk-container-id-2 div.sk-parallel-item {display: flex;flex-direction: column;z-index: 1;position: relative;background-color: white;}#sk-container-id-2 div.sk-parallel-item:first-child::after {align-self: flex-end;width: 50%;}#sk-container-id-2 div.sk-parallel-item:last-child::after {align-self: flex-start;width: 50%;}#sk-container-id-2 div.sk-parallel-item:only-child::after {width: 0;}#sk-container-id-2 div.sk-dashed-wrapped {border: 1px dashed gray;margin: 0 0.4em 0.5em 0.4em;box-sizing: border-box;padding-bottom: 0.4em;background-color: white;}#sk-container-id-2 div.sk-label label {font-family: monospace;font-weight: bold;display: inline-block;line-height: 1.2em;}#sk-container-id-2 div.sk-label-container {text-align: center;}#sk-container-id-2 div.sk-container {/* jupyter's `normalize.less` sets `[hidden] { display: none; }` but bootstrap.min.css set `[hidden] { display: none !important; }` so we also need the `!important` here to be able to override the default hidden behavior on the sphinx rendered scikit-learn.org. See: https://github.com/scikit-learn/scikit-learn/issues/21755 */display: inline-block !important;position: relative;}#sk-container-id-2 div.sk-text-repr-fallback {display: none;}</style><div id=\"sk-container-id-2\" class=\"sk-top-container\"><div class=\"sk-text-repr-fallback\"><pre>OneHotEncoder()</pre><b>In a Jupyter environment, please rerun this cell to show the HTML representation or trust the notebook. <br />On GitHub, the HTML representation is unable to render, please try loading this page with nbviewer.org.</b></div><div class=\"sk-container\" hidden><div class=\"sk-item\"><div class=\"sk-estimator sk-toggleable\"><input class=\"sk-toggleable__control sk-hidden--visually\" id=\"sk-estimator-id-2\" type=\"checkbox\" checked><label for=\"sk-estimator-id-2\" class=\"sk-toggleable__label sk-toggleable__label-arrow\">OneHotEncoder</label><div class=\"sk-toggleable__content\"><pre>OneHotEncoder()</pre></div></div></div></div></div>"
            ]
          },
          "metadata": {},
          "execution_count": 26
        }
      ]
    },
    {
      "cell_type": "code",
      "source": [
        "ohe.transform(df_car_price[['carbody', 'aspiration']]).todense()"
      ],
      "metadata": {
        "id": "p14PaDkBLPFL",
        "colab": {
          "base_uri": "https://localhost:8080/"
        },
        "outputId": "cb5281aa-251a-4b3e-d576-069a97bdae43"
      },
      "execution_count": null,
      "outputs": [
        {
          "output_type": "execute_result",
          "data": {
            "text/plain": [
              "matrix([[1., 0., 0., ..., 0., 1., 0.],\n",
              "        [1., 0., 0., ..., 0., 1., 0.],\n",
              "        [0., 0., 1., ..., 0., 1., 0.],\n",
              "        ...,\n",
              "        [0., 0., 0., ..., 0., 1., 0.],\n",
              "        [0., 0., 0., ..., 0., 0., 1.],\n",
              "        [0., 0., 0., ..., 0., 0., 1.]])"
            ]
          },
          "metadata": {},
          "execution_count": 27
        }
      ]
    },
    {
      "cell_type": "markdown",
      "source": [
        "#### Порядковые"
      ],
      "metadata": {
        "id": "lQjCCy7XLucO"
      }
    },
    {
      "cell_type": "markdown",
      "source": [
        "label encoding"
      ],
      "metadata": {
        "id": "-wQg00X2MMg6"
      }
    },
    {
      "cell_type": "code",
      "source": [
        "le=sklearn.preprocessing.LabelEncoder()\n",
        "le.fit(df_car_price['aspiration'])\n",
        "le.classes_"
      ],
      "metadata": {
        "id": "6cXQU-OjLxm_",
        "colab": {
          "base_uri": "https://localhost:8080/"
        },
        "outputId": "1071644d-8961-463e-bd6a-3b7d2220c9e9"
      },
      "execution_count": null,
      "outputs": [
        {
          "output_type": "execute_result",
          "data": {
            "text/plain": [
              "array(['std', 'turbo'], dtype=object)"
            ]
          },
          "metadata": {},
          "execution_count": 28
        }
      ]
    },
    {
      "cell_type": "code",
      "source": [
        "le.transform(df_car_price['aspiration'])"
      ],
      "metadata": {
        "id": "s40K276wM35a",
        "colab": {
          "base_uri": "https://localhost:8080/"
        },
        "outputId": "0de72506-ef57-41a9-a329-c1296ebe81d5"
      },
      "execution_count": null,
      "outputs": [
        {
          "output_type": "execute_result",
          "data": {
            "text/plain": [
              "array([0, 0, 0, 0, 0, 0, 0, 0, 1, 1, 0, 0, 0, 0, 0, 0, 0, 0, 0, 0, 0, 0,\n",
              "       0, 1, 0, 0, 0, 1, 0, 1, 0, 0, 0, 0, 0, 0, 0, 0, 0, 0, 0, 0, 0, 0,\n",
              "       0, 0, 0, 0, 0, 0, 0, 0, 0, 0, 0, 0, 0, 0, 0, 0, 0, 0, 0, 0, 0, 0,\n",
              "       0, 1, 1, 1, 1, 0, 0, 0, 0, 1, 0, 0, 0, 1, 1, 0, 1, 1, 1, 0, 0, 1,\n",
              "       0, 0, 0, 0, 0, 0, 0, 0, 0, 0, 0, 0, 0, 0, 0, 0, 0, 1, 0, 0, 1, 0,\n",
              "       1, 0, 1, 0, 1, 0, 1, 1, 0, 1, 0, 0, 0, 0, 1, 0, 0, 0, 0, 0, 0, 0,\n",
              "       0, 0, 0, 0, 1, 1, 0, 0, 0, 0, 0, 0, 0, 1, 0, 0, 0, 1, 0, 0, 0, 0,\n",
              "       0, 0, 0, 0, 0, 0, 0, 0, 0, 0, 0, 0, 0, 0, 0, 0, 0, 0, 0, 0, 1, 0,\n",
              "       0, 0, 0, 0, 0, 0, 0, 0, 0, 0, 0, 1, 0, 0, 0, 0, 1, 0, 0, 0, 0, 0,\n",
              "       1, 1, 0, 1, 0, 1, 1])"
            ]
          },
          "metadata": {},
          "execution_count": 29
        }
      ]
    },
    {
      "cell_type": "markdown",
      "source": [
        "Учтем бренд машины"
      ],
      "metadata": {
        "id": "M-M8XaHHNuPX"
      }
    },
    {
      "cell_type": "code",
      "source": [
        "df_car_price['Brand']=df_car_price['CarName'].apply(lambda x: x.split()[0]\n",
        "                                                    .lower()\n",
        "                                                    .replace('maxda','mazda')\n",
        "                                                    .replace('vw','volskwagen')\n",
        "                                                    .replace('volskwagen','volkswagen')\n",
        "                                                    .replace('vokswagen','volkswagen')\n",
        "                                                    .replace('porcshce', 'porsche')\n",
        "                                                    .replace('toyouta', 'toyota')\n",
        "                                                    )\n",
        "df_car_price['Brand'].value_counts()"
      ],
      "metadata": {
        "id": "dRmIYrz-NxOl",
        "colab": {
          "base_uri": "https://localhost:8080/"
        },
        "outputId": "7592ef49-d2fa-49b5-bfa2-c8557687b40b"
      },
      "execution_count": null,
      "outputs": [
        {
          "output_type": "execute_result",
          "data": {
            "text/plain": [
              "toyota         32\n",
              "nissan         18\n",
              "mazda          17\n",
              "mitsubishi     13\n",
              "honda          13\n",
              "volkswagen     12\n",
              "subaru         12\n",
              "peugeot        11\n",
              "volvo          11\n",
              "dodge           9\n",
              "buick           8\n",
              "bmw             8\n",
              "audi            7\n",
              "plymouth        7\n",
              "saab            6\n",
              "porsche         5\n",
              "isuzu           4\n",
              "jaguar          3\n",
              "chevrolet       3\n",
              "alfa-romero     3\n",
              "renault         2\n",
              "mercury         1\n",
              "Name: Brand, dtype: int64"
            ]
          },
          "metadata": {},
          "execution_count": 30
        }
      ]
    },
    {
      "cell_type": "code",
      "source": [
        "brands_by_price=list(df_car_price.groupby('Brand').mean()['price'].sort_values().index)\n",
        "brands_by_price"
      ],
      "metadata": {
        "id": "c0d3j1MPPuQU",
        "colab": {
          "base_uri": "https://localhost:8080/"
        },
        "outputId": "66e3750e-1bf7-416d-b5c9-cc42571b51e4"
      },
      "execution_count": null,
      "outputs": [
        {
          "output_type": "stream",
          "name": "stderr",
          "text": [
            "<ipython-input-31-a0bcc4030ca3>:1: FutureWarning: The default value of numeric_only in DataFrameGroupBy.mean is deprecated. In a future version, numeric_only will default to False. Either specify numeric_only or select only columns which should be valid for the function.\n",
            "  brands_by_price=list(df_car_price.groupby('Brand').mean()['price'].sort_values().index)\n"
          ]
        },
        {
          "output_type": "execute_result",
          "data": {
            "text/plain": [
              "['chevrolet',\n",
              " 'dodge',\n",
              " 'plymouth',\n",
              " 'honda',\n",
              " 'subaru',\n",
              " 'isuzu',\n",
              " 'mitsubishi',\n",
              " 'renault',\n",
              " 'toyota',\n",
              " 'volkswagen',\n",
              " 'nissan',\n",
              " 'mazda',\n",
              " 'saab',\n",
              " 'peugeot',\n",
              " 'alfa-romero',\n",
              " 'mercury',\n",
              " 'audi',\n",
              " 'volvo',\n",
              " 'bmw',\n",
              " 'porsche',\n",
              " 'buick',\n",
              " 'jaguar']"
            ]
          },
          "metadata": {},
          "execution_count": 31
        }
      ]
    },
    {
      "cell_type": "markdown",
      "source": [
        "Для начала опишем все фичи."
      ],
      "metadata": {
        "id": "3hf5GeAMRBUt"
      }
    },
    {
      "cell_type": "code",
      "source": [
        "all_features=['symboling','Brand','fueltype','aspiration','doornumber',\n",
        "              'carbody','drivewheel','enginelocation','wheelbase','carlength',\n",
        "              'carwidth','carheight','curbweight','enginetype','fuelsystem',\n",
        "              'cylindernumber','enginesize','boreratio','stroke','compressionratio',\n",
        "              'horsepower','peakrpm','citympg','highwaympg']\n",
        "df_car_price[all_features]"
      ],
      "metadata": {
        "id": "xX3iuOHwQ73e",
        "colab": {
          "base_uri": "https://localhost:8080/",
          "height": 495
        },
        "outputId": "aad92165-7be4-471a-82c7-fd922e13bf2d"
      },
      "execution_count": null,
      "outputs": [
        {
          "output_type": "execute_result",
          "data": {
            "text/plain": [
              "     symboling        Brand fueltype aspiration doornumber      carbody  \\\n",
              "0            3  alfa-romero      gas        std        two  convertible   \n",
              "1            3  alfa-romero      gas        std        two  convertible   \n",
              "2            1  alfa-romero      gas        std        two    hatchback   \n",
              "3            2         audi      gas        std       four        sedan   \n",
              "4            2         audi      gas        std       four        sedan   \n",
              "..         ...          ...      ...        ...        ...          ...   \n",
              "200         -1        volvo      gas        std       four        sedan   \n",
              "201         -1        volvo      gas      turbo       four        sedan   \n",
              "202         -1        volvo      gas        std       four        sedan   \n",
              "203         -1        volvo   diesel      turbo       four        sedan   \n",
              "204         -1        volvo      gas      turbo       four        sedan   \n",
              "\n",
              "    drivewheel enginelocation  wheelbase  carlength  ...  fuelsystem  \\\n",
              "0          rwd          front       88.6      168.8  ...        mpfi   \n",
              "1          rwd          front       88.6      168.8  ...        mpfi   \n",
              "2          rwd          front       94.5      171.2  ...        mpfi   \n",
              "3          fwd          front       99.8      176.6  ...        mpfi   \n",
              "4          4wd          front       99.4      176.6  ...        mpfi   \n",
              "..         ...            ...        ...        ...  ...         ...   \n",
              "200        rwd          front      109.1      188.8  ...        mpfi   \n",
              "201        rwd          front      109.1      188.8  ...        mpfi   \n",
              "202        rwd          front      109.1      188.8  ...        mpfi   \n",
              "203        rwd          front      109.1      188.8  ...         idi   \n",
              "204        rwd          front      109.1      188.8  ...        mpfi   \n",
              "\n",
              "     cylindernumber  enginesize boreratio stroke compressionratio  horsepower  \\\n",
              "0              four         130      3.47   2.68              9.0         111   \n",
              "1              four         130      3.47   2.68              9.0         111   \n",
              "2               six         152      2.68   3.47              9.0         154   \n",
              "3              four         109      3.19   3.40             10.0         102   \n",
              "4              five         136      3.19   3.40              8.0         115   \n",
              "..              ...         ...       ...    ...              ...         ...   \n",
              "200            four         141      3.78   3.15              9.5         114   \n",
              "201            four         141      3.78   3.15              8.7         160   \n",
              "202             six         173      3.58   2.87              8.8         134   \n",
              "203             six         145      3.01   3.40             23.0         106   \n",
              "204            four         141      3.78   3.15              9.5         114   \n",
              "\n",
              "     peakrpm  citympg  highwaympg  \n",
              "0       5000       21          27  \n",
              "1       5000       21          27  \n",
              "2       5000       19          26  \n",
              "3       5500       24          30  \n",
              "4       5500       18          22  \n",
              "..       ...      ...         ...  \n",
              "200     5400       23          28  \n",
              "201     5300       19          25  \n",
              "202     5500       18          23  \n",
              "203     4800       26          27  \n",
              "204     5400       19          25  \n",
              "\n",
              "[205 rows x 24 columns]"
            ],
            "text/html": [
              "\n",
              "  <div id=\"df-3184b233-1028-41c8-9e70-95008bdd972c\" class=\"colab-df-container\">\n",
              "    <div>\n",
              "<style scoped>\n",
              "    .dataframe tbody tr th:only-of-type {\n",
              "        vertical-align: middle;\n",
              "    }\n",
              "\n",
              "    .dataframe tbody tr th {\n",
              "        vertical-align: top;\n",
              "    }\n",
              "\n",
              "    .dataframe thead th {\n",
              "        text-align: right;\n",
              "    }\n",
              "</style>\n",
              "<table border=\"1\" class=\"dataframe\">\n",
              "  <thead>\n",
              "    <tr style=\"text-align: right;\">\n",
              "      <th></th>\n",
              "      <th>symboling</th>\n",
              "      <th>Brand</th>\n",
              "      <th>fueltype</th>\n",
              "      <th>aspiration</th>\n",
              "      <th>doornumber</th>\n",
              "      <th>carbody</th>\n",
              "      <th>drivewheel</th>\n",
              "      <th>enginelocation</th>\n",
              "      <th>wheelbase</th>\n",
              "      <th>carlength</th>\n",
              "      <th>...</th>\n",
              "      <th>fuelsystem</th>\n",
              "      <th>cylindernumber</th>\n",
              "      <th>enginesize</th>\n",
              "      <th>boreratio</th>\n",
              "      <th>stroke</th>\n",
              "      <th>compressionratio</th>\n",
              "      <th>horsepower</th>\n",
              "      <th>peakrpm</th>\n",
              "      <th>citympg</th>\n",
              "      <th>highwaympg</th>\n",
              "    </tr>\n",
              "  </thead>\n",
              "  <tbody>\n",
              "    <tr>\n",
              "      <th>0</th>\n",
              "      <td>3</td>\n",
              "      <td>alfa-romero</td>\n",
              "      <td>gas</td>\n",
              "      <td>std</td>\n",
              "      <td>two</td>\n",
              "      <td>convertible</td>\n",
              "      <td>rwd</td>\n",
              "      <td>front</td>\n",
              "      <td>88.6</td>\n",
              "      <td>168.8</td>\n",
              "      <td>...</td>\n",
              "      <td>mpfi</td>\n",
              "      <td>four</td>\n",
              "      <td>130</td>\n",
              "      <td>3.47</td>\n",
              "      <td>2.68</td>\n",
              "      <td>9.0</td>\n",
              "      <td>111</td>\n",
              "      <td>5000</td>\n",
              "      <td>21</td>\n",
              "      <td>27</td>\n",
              "    </tr>\n",
              "    <tr>\n",
              "      <th>1</th>\n",
              "      <td>3</td>\n",
              "      <td>alfa-romero</td>\n",
              "      <td>gas</td>\n",
              "      <td>std</td>\n",
              "      <td>two</td>\n",
              "      <td>convertible</td>\n",
              "      <td>rwd</td>\n",
              "      <td>front</td>\n",
              "      <td>88.6</td>\n",
              "      <td>168.8</td>\n",
              "      <td>...</td>\n",
              "      <td>mpfi</td>\n",
              "      <td>four</td>\n",
              "      <td>130</td>\n",
              "      <td>3.47</td>\n",
              "      <td>2.68</td>\n",
              "      <td>9.0</td>\n",
              "      <td>111</td>\n",
              "      <td>5000</td>\n",
              "      <td>21</td>\n",
              "      <td>27</td>\n",
              "    </tr>\n",
              "    <tr>\n",
              "      <th>2</th>\n",
              "      <td>1</td>\n",
              "      <td>alfa-romero</td>\n",
              "      <td>gas</td>\n",
              "      <td>std</td>\n",
              "      <td>two</td>\n",
              "      <td>hatchback</td>\n",
              "      <td>rwd</td>\n",
              "      <td>front</td>\n",
              "      <td>94.5</td>\n",
              "      <td>171.2</td>\n",
              "      <td>...</td>\n",
              "      <td>mpfi</td>\n",
              "      <td>six</td>\n",
              "      <td>152</td>\n",
              "      <td>2.68</td>\n",
              "      <td>3.47</td>\n",
              "      <td>9.0</td>\n",
              "      <td>154</td>\n",
              "      <td>5000</td>\n",
              "      <td>19</td>\n",
              "      <td>26</td>\n",
              "    </tr>\n",
              "    <tr>\n",
              "      <th>3</th>\n",
              "      <td>2</td>\n",
              "      <td>audi</td>\n",
              "      <td>gas</td>\n",
              "      <td>std</td>\n",
              "      <td>four</td>\n",
              "      <td>sedan</td>\n",
              "      <td>fwd</td>\n",
              "      <td>front</td>\n",
              "      <td>99.8</td>\n",
              "      <td>176.6</td>\n",
              "      <td>...</td>\n",
              "      <td>mpfi</td>\n",
              "      <td>four</td>\n",
              "      <td>109</td>\n",
              "      <td>3.19</td>\n",
              "      <td>3.40</td>\n",
              "      <td>10.0</td>\n",
              "      <td>102</td>\n",
              "      <td>5500</td>\n",
              "      <td>24</td>\n",
              "      <td>30</td>\n",
              "    </tr>\n",
              "    <tr>\n",
              "      <th>4</th>\n",
              "      <td>2</td>\n",
              "      <td>audi</td>\n",
              "      <td>gas</td>\n",
              "      <td>std</td>\n",
              "      <td>four</td>\n",
              "      <td>sedan</td>\n",
              "      <td>4wd</td>\n",
              "      <td>front</td>\n",
              "      <td>99.4</td>\n",
              "      <td>176.6</td>\n",
              "      <td>...</td>\n",
              "      <td>mpfi</td>\n",
              "      <td>five</td>\n",
              "      <td>136</td>\n",
              "      <td>3.19</td>\n",
              "      <td>3.40</td>\n",
              "      <td>8.0</td>\n",
              "      <td>115</td>\n",
              "      <td>5500</td>\n",
              "      <td>18</td>\n",
              "      <td>22</td>\n",
              "    </tr>\n",
              "    <tr>\n",
              "      <th>...</th>\n",
              "      <td>...</td>\n",
              "      <td>...</td>\n",
              "      <td>...</td>\n",
              "      <td>...</td>\n",
              "      <td>...</td>\n",
              "      <td>...</td>\n",
              "      <td>...</td>\n",
              "      <td>...</td>\n",
              "      <td>...</td>\n",
              "      <td>...</td>\n",
              "      <td>...</td>\n",
              "      <td>...</td>\n",
              "      <td>...</td>\n",
              "      <td>...</td>\n",
              "      <td>...</td>\n",
              "      <td>...</td>\n",
              "      <td>...</td>\n",
              "      <td>...</td>\n",
              "      <td>...</td>\n",
              "      <td>...</td>\n",
              "      <td>...</td>\n",
              "    </tr>\n",
              "    <tr>\n",
              "      <th>200</th>\n",
              "      <td>-1</td>\n",
              "      <td>volvo</td>\n",
              "      <td>gas</td>\n",
              "      <td>std</td>\n",
              "      <td>four</td>\n",
              "      <td>sedan</td>\n",
              "      <td>rwd</td>\n",
              "      <td>front</td>\n",
              "      <td>109.1</td>\n",
              "      <td>188.8</td>\n",
              "      <td>...</td>\n",
              "      <td>mpfi</td>\n",
              "      <td>four</td>\n",
              "      <td>141</td>\n",
              "      <td>3.78</td>\n",
              "      <td>3.15</td>\n",
              "      <td>9.5</td>\n",
              "      <td>114</td>\n",
              "      <td>5400</td>\n",
              "      <td>23</td>\n",
              "      <td>28</td>\n",
              "    </tr>\n",
              "    <tr>\n",
              "      <th>201</th>\n",
              "      <td>-1</td>\n",
              "      <td>volvo</td>\n",
              "      <td>gas</td>\n",
              "      <td>turbo</td>\n",
              "      <td>four</td>\n",
              "      <td>sedan</td>\n",
              "      <td>rwd</td>\n",
              "      <td>front</td>\n",
              "      <td>109.1</td>\n",
              "      <td>188.8</td>\n",
              "      <td>...</td>\n",
              "      <td>mpfi</td>\n",
              "      <td>four</td>\n",
              "      <td>141</td>\n",
              "      <td>3.78</td>\n",
              "      <td>3.15</td>\n",
              "      <td>8.7</td>\n",
              "      <td>160</td>\n",
              "      <td>5300</td>\n",
              "      <td>19</td>\n",
              "      <td>25</td>\n",
              "    </tr>\n",
              "    <tr>\n",
              "      <th>202</th>\n",
              "      <td>-1</td>\n",
              "      <td>volvo</td>\n",
              "      <td>gas</td>\n",
              "      <td>std</td>\n",
              "      <td>four</td>\n",
              "      <td>sedan</td>\n",
              "      <td>rwd</td>\n",
              "      <td>front</td>\n",
              "      <td>109.1</td>\n",
              "      <td>188.8</td>\n",
              "      <td>...</td>\n",
              "      <td>mpfi</td>\n",
              "      <td>six</td>\n",
              "      <td>173</td>\n",
              "      <td>3.58</td>\n",
              "      <td>2.87</td>\n",
              "      <td>8.8</td>\n",
              "      <td>134</td>\n",
              "      <td>5500</td>\n",
              "      <td>18</td>\n",
              "      <td>23</td>\n",
              "    </tr>\n",
              "    <tr>\n",
              "      <th>203</th>\n",
              "      <td>-1</td>\n",
              "      <td>volvo</td>\n",
              "      <td>diesel</td>\n",
              "      <td>turbo</td>\n",
              "      <td>four</td>\n",
              "      <td>sedan</td>\n",
              "      <td>rwd</td>\n",
              "      <td>front</td>\n",
              "      <td>109.1</td>\n",
              "      <td>188.8</td>\n",
              "      <td>...</td>\n",
              "      <td>idi</td>\n",
              "      <td>six</td>\n",
              "      <td>145</td>\n",
              "      <td>3.01</td>\n",
              "      <td>3.40</td>\n",
              "      <td>23.0</td>\n",
              "      <td>106</td>\n",
              "      <td>4800</td>\n",
              "      <td>26</td>\n",
              "      <td>27</td>\n",
              "    </tr>\n",
              "    <tr>\n",
              "      <th>204</th>\n",
              "      <td>-1</td>\n",
              "      <td>volvo</td>\n",
              "      <td>gas</td>\n",
              "      <td>turbo</td>\n",
              "      <td>four</td>\n",
              "      <td>sedan</td>\n",
              "      <td>rwd</td>\n",
              "      <td>front</td>\n",
              "      <td>109.1</td>\n",
              "      <td>188.8</td>\n",
              "      <td>...</td>\n",
              "      <td>mpfi</td>\n",
              "      <td>four</td>\n",
              "      <td>141</td>\n",
              "      <td>3.78</td>\n",
              "      <td>3.15</td>\n",
              "      <td>9.5</td>\n",
              "      <td>114</td>\n",
              "      <td>5400</td>\n",
              "      <td>19</td>\n",
              "      <td>25</td>\n",
              "    </tr>\n",
              "  </tbody>\n",
              "</table>\n",
              "<p>205 rows × 24 columns</p>\n",
              "</div>\n",
              "    <div class=\"colab-df-buttons\">\n",
              "\n",
              "  <div class=\"colab-df-container\">\n",
              "    <button class=\"colab-df-convert\" onclick=\"convertToInteractive('df-3184b233-1028-41c8-9e70-95008bdd972c')\"\n",
              "            title=\"Convert this dataframe to an interactive table.\"\n",
              "            style=\"display:none;\">\n",
              "\n",
              "  <svg xmlns=\"http://www.w3.org/2000/svg\" height=\"24px\" viewBox=\"0 -960 960 960\">\n",
              "    <path d=\"M120-120v-720h720v720H120Zm60-500h600v-160H180v160Zm220 220h160v-160H400v160Zm0 220h160v-160H400v160ZM180-400h160v-160H180v160Zm440 0h160v-160H620v160ZM180-180h160v-160H180v160Zm440 0h160v-160H620v160Z\"/>\n",
              "  </svg>\n",
              "    </button>\n",
              "\n",
              "  <style>\n",
              "    .colab-df-container {\n",
              "      display:flex;\n",
              "      gap: 12px;\n",
              "    }\n",
              "\n",
              "    .colab-df-convert {\n",
              "      background-color: #E8F0FE;\n",
              "      border: none;\n",
              "      border-radius: 50%;\n",
              "      cursor: pointer;\n",
              "      display: none;\n",
              "      fill: #1967D2;\n",
              "      height: 32px;\n",
              "      padding: 0 0 0 0;\n",
              "      width: 32px;\n",
              "    }\n",
              "\n",
              "    .colab-df-convert:hover {\n",
              "      background-color: #E2EBFA;\n",
              "      box-shadow: 0px 1px 2px rgba(60, 64, 67, 0.3), 0px 1px 3px 1px rgba(60, 64, 67, 0.15);\n",
              "      fill: #174EA6;\n",
              "    }\n",
              "\n",
              "    .colab-df-buttons div {\n",
              "      margin-bottom: 4px;\n",
              "    }\n",
              "\n",
              "    [theme=dark] .colab-df-convert {\n",
              "      background-color: #3B4455;\n",
              "      fill: #D2E3FC;\n",
              "    }\n",
              "\n",
              "    [theme=dark] .colab-df-convert:hover {\n",
              "      background-color: #434B5C;\n",
              "      box-shadow: 0px 1px 3px 1px rgba(0, 0, 0, 0.15);\n",
              "      filter: drop-shadow(0px 1px 2px rgba(0, 0, 0, 0.3));\n",
              "      fill: #FFFFFF;\n",
              "    }\n",
              "  </style>\n",
              "\n",
              "    <script>\n",
              "      const buttonEl =\n",
              "        document.querySelector('#df-3184b233-1028-41c8-9e70-95008bdd972c button.colab-df-convert');\n",
              "      buttonEl.style.display =\n",
              "        google.colab.kernel.accessAllowed ? 'block' : 'none';\n",
              "\n",
              "      async function convertToInteractive(key) {\n",
              "        const element = document.querySelector('#df-3184b233-1028-41c8-9e70-95008bdd972c');\n",
              "        const dataTable =\n",
              "          await google.colab.kernel.invokeFunction('convertToInteractive',\n",
              "                                                    [key], {});\n",
              "        if (!dataTable) return;\n",
              "\n",
              "        const docLinkHtml = 'Like what you see? Visit the ' +\n",
              "          '<a target=\"_blank\" href=https://colab.research.google.com/notebooks/data_table.ipynb>data table notebook</a>'\n",
              "          + ' to learn more about interactive tables.';\n",
              "        element.innerHTML = '';\n",
              "        dataTable['output_type'] = 'display_data';\n",
              "        await google.colab.output.renderOutput(dataTable, element);\n",
              "        const docLink = document.createElement('div');\n",
              "        docLink.innerHTML = docLinkHtml;\n",
              "        element.appendChild(docLink);\n",
              "      }\n",
              "    </script>\n",
              "  </div>\n",
              "\n",
              "\n",
              "<div id=\"df-ec159b55-55d0-421d-a78d-093c06155f72\">\n",
              "  <button class=\"colab-df-quickchart\" onclick=\"quickchart('df-ec159b55-55d0-421d-a78d-093c06155f72')\"\n",
              "            title=\"Suggest charts\"\n",
              "            style=\"display:none;\">\n",
              "\n",
              "<svg xmlns=\"http://www.w3.org/2000/svg\" height=\"24px\"viewBox=\"0 0 24 24\"\n",
              "     width=\"24px\">\n",
              "    <g>\n",
              "        <path d=\"M19 3H5c-1.1 0-2 .9-2 2v14c0 1.1.9 2 2 2h14c1.1 0 2-.9 2-2V5c0-1.1-.9-2-2-2zM9 17H7v-7h2v7zm4 0h-2V7h2v10zm4 0h-2v-4h2v4z\"/>\n",
              "    </g>\n",
              "</svg>\n",
              "  </button>\n",
              "\n",
              "<style>\n",
              "  .colab-df-quickchart {\n",
              "      --bg-color: #E8F0FE;\n",
              "      --fill-color: #1967D2;\n",
              "      --hover-bg-color: #E2EBFA;\n",
              "      --hover-fill-color: #174EA6;\n",
              "      --disabled-fill-color: #AAA;\n",
              "      --disabled-bg-color: #DDD;\n",
              "  }\n",
              "\n",
              "  [theme=dark] .colab-df-quickchart {\n",
              "      --bg-color: #3B4455;\n",
              "      --fill-color: #D2E3FC;\n",
              "      --hover-bg-color: #434B5C;\n",
              "      --hover-fill-color: #FFFFFF;\n",
              "      --disabled-bg-color: #3B4455;\n",
              "      --disabled-fill-color: #666;\n",
              "  }\n",
              "\n",
              "  .colab-df-quickchart {\n",
              "    background-color: var(--bg-color);\n",
              "    border: none;\n",
              "    border-radius: 50%;\n",
              "    cursor: pointer;\n",
              "    display: none;\n",
              "    fill: var(--fill-color);\n",
              "    height: 32px;\n",
              "    padding: 0;\n",
              "    width: 32px;\n",
              "  }\n",
              "\n",
              "  .colab-df-quickchart:hover {\n",
              "    background-color: var(--hover-bg-color);\n",
              "    box-shadow: 0 1px 2px rgba(60, 64, 67, 0.3), 0 1px 3px 1px rgba(60, 64, 67, 0.15);\n",
              "    fill: var(--button-hover-fill-color);\n",
              "  }\n",
              "\n",
              "  .colab-df-quickchart-complete:disabled,\n",
              "  .colab-df-quickchart-complete:disabled:hover {\n",
              "    background-color: var(--disabled-bg-color);\n",
              "    fill: var(--disabled-fill-color);\n",
              "    box-shadow: none;\n",
              "  }\n",
              "\n",
              "  .colab-df-spinner {\n",
              "    border: 2px solid var(--fill-color);\n",
              "    border-color: transparent;\n",
              "    border-bottom-color: var(--fill-color);\n",
              "    animation:\n",
              "      spin 1s steps(1) infinite;\n",
              "  }\n",
              "\n",
              "  @keyframes spin {\n",
              "    0% {\n",
              "      border-color: transparent;\n",
              "      border-bottom-color: var(--fill-color);\n",
              "      border-left-color: var(--fill-color);\n",
              "    }\n",
              "    20% {\n",
              "      border-color: transparent;\n",
              "      border-left-color: var(--fill-color);\n",
              "      border-top-color: var(--fill-color);\n",
              "    }\n",
              "    30% {\n",
              "      border-color: transparent;\n",
              "      border-left-color: var(--fill-color);\n",
              "      border-top-color: var(--fill-color);\n",
              "      border-right-color: var(--fill-color);\n",
              "    }\n",
              "    40% {\n",
              "      border-color: transparent;\n",
              "      border-right-color: var(--fill-color);\n",
              "      border-top-color: var(--fill-color);\n",
              "    }\n",
              "    60% {\n",
              "      border-color: transparent;\n",
              "      border-right-color: var(--fill-color);\n",
              "    }\n",
              "    80% {\n",
              "      border-color: transparent;\n",
              "      border-right-color: var(--fill-color);\n",
              "      border-bottom-color: var(--fill-color);\n",
              "    }\n",
              "    90% {\n",
              "      border-color: transparent;\n",
              "      border-bottom-color: var(--fill-color);\n",
              "    }\n",
              "  }\n",
              "</style>\n",
              "\n",
              "  <script>\n",
              "    async function quickchart(key) {\n",
              "      const quickchartButtonEl =\n",
              "        document.querySelector('#' + key + ' button');\n",
              "      quickchartButtonEl.disabled = true;  // To prevent multiple clicks.\n",
              "      quickchartButtonEl.classList.add('colab-df-spinner');\n",
              "      try {\n",
              "        const charts = await google.colab.kernel.invokeFunction(\n",
              "            'suggestCharts', [key], {});\n",
              "      } catch (error) {\n",
              "        console.error('Error during call to suggestCharts:', error);\n",
              "      }\n",
              "      quickchartButtonEl.classList.remove('colab-df-spinner');\n",
              "      quickchartButtonEl.classList.add('colab-df-quickchart-complete');\n",
              "    }\n",
              "    (() => {\n",
              "      let quickchartButtonEl =\n",
              "        document.querySelector('#df-ec159b55-55d0-421d-a78d-093c06155f72 button');\n",
              "      quickchartButtonEl.style.display =\n",
              "        google.colab.kernel.accessAllowed ? 'block' : 'none';\n",
              "    })();\n",
              "  </script>\n",
              "</div>\n",
              "    </div>\n",
              "  </div>\n"
            ],
            "application/vnd.google.colaboratory.intrinsic+json": {
              "type": "dataframe"
            }
          },
          "metadata": {},
          "execution_count": 32
        }
      ]
    },
    {
      "cell_type": "markdown",
      "source": [
        "Выбираем кого как кодировать."
      ],
      "metadata": {
        "id": "-B5fmscBT39A"
      }
    },
    {
      "cell_type": "markdown",
      "source": [
        "*   Sklearn позволяет обучить один трансормер, выполняющий все преобразования с таблицей\n",
        "*   OneHotEncoder, LabelEncoder, OrdinalEncoder (LabelEncoder, но получше работающий в составе трансформеров)\n",
        "*   Масштабируют: StandardScaler (вычитает среднее и делит на дисперсию), MinMaxScaler (линейно масштабирует от 0 до 1)\n"
      ],
      "metadata": {
        "id": "VrgL6rR-4s5D"
      }
    },
    {
      "cell_type": "code",
      "source": [
        "from sklearn.compose import make_column_transformer\n",
        "from sklearn.preprocessing import OneHotEncoder, LabelEncoder, OrdinalEncoder\n",
        "from sklearn.preprocessing import StandardScaler, MinMaxScaler"
      ],
      "metadata": {
        "id": "cKXzHl2DUEip"
      },
      "execution_count": null,
      "outputs": []
    },
    {
      "cell_type": "code",
      "source": [
        "num_features=['enginesize','wheelbase','horsepower','highwaympg','compressionratio']\n",
        "train, test= train_test_split(df_car_price, test_size=0.2, shuffle=True)\n",
        "transformer=make_column_transformer(\n",
        "    (OrdinalEncoder(),['Brand', 'doornumber']),\n",
        "    (OneHotEncoder(),['carbody']),\n",
        "    (StandardScaler(),num_features)\n",
        ")\n",
        "\n",
        "transformer.fit(train)"
      ],
      "metadata": {
        "colab": {
          "base_uri": "https://localhost:8080/",
          "height": 116
        },
        "id": "5bFLk9Jy5jqH",
        "outputId": "d96916dc-9d0c-4897-bec7-6bbf74543809"
      },
      "execution_count": null,
      "outputs": [
        {
          "output_type": "execute_result",
          "data": {
            "text/plain": [
              "ColumnTransformer(transformers=[('ordinalencoder', OrdinalEncoder(),\n",
              "                                 ['Brand', 'doornumber']),\n",
              "                                ('onehotencoder', OneHotEncoder(), ['carbody']),\n",
              "                                ('standardscaler', StandardScaler(),\n",
              "                                 ['enginesize', 'wheelbase', 'horsepower',\n",
              "                                  'highwaympg', 'compressionratio'])])"
            ],
            "text/html": [
              "<style>#sk-container-id-3 {color: black;background-color: white;}#sk-container-id-3 pre{padding: 0;}#sk-container-id-3 div.sk-toggleable {background-color: white;}#sk-container-id-3 label.sk-toggleable__label {cursor: pointer;display: block;width: 100%;margin-bottom: 0;padding: 0.3em;box-sizing: border-box;text-align: center;}#sk-container-id-3 label.sk-toggleable__label-arrow:before {content: \"▸\";float: left;margin-right: 0.25em;color: #696969;}#sk-container-id-3 label.sk-toggleable__label-arrow:hover:before {color: black;}#sk-container-id-3 div.sk-estimator:hover label.sk-toggleable__label-arrow:before {color: black;}#sk-container-id-3 div.sk-toggleable__content {max-height: 0;max-width: 0;overflow: hidden;text-align: left;background-color: #f0f8ff;}#sk-container-id-3 div.sk-toggleable__content pre {margin: 0.2em;color: black;border-radius: 0.25em;background-color: #f0f8ff;}#sk-container-id-3 input.sk-toggleable__control:checked~div.sk-toggleable__content {max-height: 200px;max-width: 100%;overflow: auto;}#sk-container-id-3 input.sk-toggleable__control:checked~label.sk-toggleable__label-arrow:before {content: \"▾\";}#sk-container-id-3 div.sk-estimator input.sk-toggleable__control:checked~label.sk-toggleable__label {background-color: #d4ebff;}#sk-container-id-3 div.sk-label input.sk-toggleable__control:checked~label.sk-toggleable__label {background-color: #d4ebff;}#sk-container-id-3 input.sk-hidden--visually {border: 0;clip: rect(1px 1px 1px 1px);clip: rect(1px, 1px, 1px, 1px);height: 1px;margin: -1px;overflow: hidden;padding: 0;position: absolute;width: 1px;}#sk-container-id-3 div.sk-estimator {font-family: monospace;background-color: #f0f8ff;border: 1px dotted black;border-radius: 0.25em;box-sizing: border-box;margin-bottom: 0.5em;}#sk-container-id-3 div.sk-estimator:hover {background-color: #d4ebff;}#sk-container-id-3 div.sk-parallel-item::after {content: \"\";width: 100%;border-bottom: 1px solid gray;flex-grow: 1;}#sk-container-id-3 div.sk-label:hover label.sk-toggleable__label {background-color: #d4ebff;}#sk-container-id-3 div.sk-serial::before {content: \"\";position: absolute;border-left: 1px solid gray;box-sizing: border-box;top: 0;bottom: 0;left: 50%;z-index: 0;}#sk-container-id-3 div.sk-serial {display: flex;flex-direction: column;align-items: center;background-color: white;padding-right: 0.2em;padding-left: 0.2em;position: relative;}#sk-container-id-3 div.sk-item {position: relative;z-index: 1;}#sk-container-id-3 div.sk-parallel {display: flex;align-items: stretch;justify-content: center;background-color: white;position: relative;}#sk-container-id-3 div.sk-item::before, #sk-container-id-3 div.sk-parallel-item::before {content: \"\";position: absolute;border-left: 1px solid gray;box-sizing: border-box;top: 0;bottom: 0;left: 50%;z-index: -1;}#sk-container-id-3 div.sk-parallel-item {display: flex;flex-direction: column;z-index: 1;position: relative;background-color: white;}#sk-container-id-3 div.sk-parallel-item:first-child::after {align-self: flex-end;width: 50%;}#sk-container-id-3 div.sk-parallel-item:last-child::after {align-self: flex-start;width: 50%;}#sk-container-id-3 div.sk-parallel-item:only-child::after {width: 0;}#sk-container-id-3 div.sk-dashed-wrapped {border: 1px dashed gray;margin: 0 0.4em 0.5em 0.4em;box-sizing: border-box;padding-bottom: 0.4em;background-color: white;}#sk-container-id-3 div.sk-label label {font-family: monospace;font-weight: bold;display: inline-block;line-height: 1.2em;}#sk-container-id-3 div.sk-label-container {text-align: center;}#sk-container-id-3 div.sk-container {/* jupyter's `normalize.less` sets `[hidden] { display: none; }` but bootstrap.min.css set `[hidden] { display: none !important; }` so we also need the `!important` here to be able to override the default hidden behavior on the sphinx rendered scikit-learn.org. See: https://github.com/scikit-learn/scikit-learn/issues/21755 */display: inline-block !important;position: relative;}#sk-container-id-3 div.sk-text-repr-fallback {display: none;}</style><div id=\"sk-container-id-3\" class=\"sk-top-container\"><div class=\"sk-text-repr-fallback\"><pre>ColumnTransformer(transformers=[(&#x27;ordinalencoder&#x27;, OrdinalEncoder(),\n",
              "                                 [&#x27;Brand&#x27;, &#x27;doornumber&#x27;]),\n",
              "                                (&#x27;onehotencoder&#x27;, OneHotEncoder(), [&#x27;carbody&#x27;]),\n",
              "                                (&#x27;standardscaler&#x27;, StandardScaler(),\n",
              "                                 [&#x27;enginesize&#x27;, &#x27;wheelbase&#x27;, &#x27;horsepower&#x27;,\n",
              "                                  &#x27;highwaympg&#x27;, &#x27;compressionratio&#x27;])])</pre><b>In a Jupyter environment, please rerun this cell to show the HTML representation or trust the notebook. <br />On GitHub, the HTML representation is unable to render, please try loading this page with nbviewer.org.</b></div><div class=\"sk-container\" hidden><div class=\"sk-item sk-dashed-wrapped\"><div class=\"sk-label-container\"><div class=\"sk-label sk-toggleable\"><input class=\"sk-toggleable__control sk-hidden--visually\" id=\"sk-estimator-id-3\" type=\"checkbox\" ><label for=\"sk-estimator-id-3\" class=\"sk-toggleable__label sk-toggleable__label-arrow\">ColumnTransformer</label><div class=\"sk-toggleable__content\"><pre>ColumnTransformer(transformers=[(&#x27;ordinalencoder&#x27;, OrdinalEncoder(),\n",
              "                                 [&#x27;Brand&#x27;, &#x27;doornumber&#x27;]),\n",
              "                                (&#x27;onehotencoder&#x27;, OneHotEncoder(), [&#x27;carbody&#x27;]),\n",
              "                                (&#x27;standardscaler&#x27;, StandardScaler(),\n",
              "                                 [&#x27;enginesize&#x27;, &#x27;wheelbase&#x27;, &#x27;horsepower&#x27;,\n",
              "                                  &#x27;highwaympg&#x27;, &#x27;compressionratio&#x27;])])</pre></div></div></div><div class=\"sk-parallel\"><div class=\"sk-parallel-item\"><div class=\"sk-item\"><div class=\"sk-label-container\"><div class=\"sk-label sk-toggleable\"><input class=\"sk-toggleable__control sk-hidden--visually\" id=\"sk-estimator-id-4\" type=\"checkbox\" ><label for=\"sk-estimator-id-4\" class=\"sk-toggleable__label sk-toggleable__label-arrow\">ordinalencoder</label><div class=\"sk-toggleable__content\"><pre>[&#x27;Brand&#x27;, &#x27;doornumber&#x27;]</pre></div></div></div><div class=\"sk-serial\"><div class=\"sk-item\"><div class=\"sk-estimator sk-toggleable\"><input class=\"sk-toggleable__control sk-hidden--visually\" id=\"sk-estimator-id-5\" type=\"checkbox\" ><label for=\"sk-estimator-id-5\" class=\"sk-toggleable__label sk-toggleable__label-arrow\">OrdinalEncoder</label><div class=\"sk-toggleable__content\"><pre>OrdinalEncoder()</pre></div></div></div></div></div></div><div class=\"sk-parallel-item\"><div class=\"sk-item\"><div class=\"sk-label-container\"><div class=\"sk-label sk-toggleable\"><input class=\"sk-toggleable__control sk-hidden--visually\" id=\"sk-estimator-id-6\" type=\"checkbox\" ><label for=\"sk-estimator-id-6\" class=\"sk-toggleable__label sk-toggleable__label-arrow\">onehotencoder</label><div class=\"sk-toggleable__content\"><pre>[&#x27;carbody&#x27;]</pre></div></div></div><div class=\"sk-serial\"><div class=\"sk-item\"><div class=\"sk-estimator sk-toggleable\"><input class=\"sk-toggleable__control sk-hidden--visually\" id=\"sk-estimator-id-7\" type=\"checkbox\" ><label for=\"sk-estimator-id-7\" class=\"sk-toggleable__label sk-toggleable__label-arrow\">OneHotEncoder</label><div class=\"sk-toggleable__content\"><pre>OneHotEncoder()</pre></div></div></div></div></div></div><div class=\"sk-parallel-item\"><div class=\"sk-item\"><div class=\"sk-label-container\"><div class=\"sk-label sk-toggleable\"><input class=\"sk-toggleable__control sk-hidden--visually\" id=\"sk-estimator-id-8\" type=\"checkbox\" ><label for=\"sk-estimator-id-8\" class=\"sk-toggleable__label sk-toggleable__label-arrow\">standardscaler</label><div class=\"sk-toggleable__content\"><pre>[&#x27;enginesize&#x27;, &#x27;wheelbase&#x27;, &#x27;horsepower&#x27;, &#x27;highwaympg&#x27;, &#x27;compressionratio&#x27;]</pre></div></div></div><div class=\"sk-serial\"><div class=\"sk-item\"><div class=\"sk-estimator sk-toggleable\"><input class=\"sk-toggleable__control sk-hidden--visually\" id=\"sk-estimator-id-9\" type=\"checkbox\" ><label for=\"sk-estimator-id-9\" class=\"sk-toggleable__label sk-toggleable__label-arrow\">StandardScaler</label><div class=\"sk-toggleable__content\"><pre>StandardScaler()</pre></div></div></div></div></div></div></div></div></div></div>"
            ]
          },
          "metadata": {},
          "execution_count": 34
        }
      ]
    },
    {
      "cell_type": "markdown",
      "source": [
        "Данные, готовые к употреблению:"
      ],
      "metadata": {
        "id": "XoSwl2YgADCk"
      }
    },
    {
      "cell_type": "code",
      "source": [
        "X_ted=transformer.transform(train)\n",
        "Y_ted=train['price']\n",
        "model=LinearRegression().fit(X_ted,Y_ted)"
      ],
      "metadata": {
        "id": "dt58gwH__ykl"
      },
      "execution_count": null,
      "outputs": []
    },
    {
      "cell_type": "code",
      "source": [
        "Y_pred_ted=model.predict(transformer.transform(test))\n",
        "mean_absolute_error(test['price'], Y_pred_ted)"
      ],
      "metadata": {
        "colab": {
          "base_uri": "https://localhost:8080/"
        },
        "id": "pk7fgWsIBAkn",
        "outputId": "9e37802f-14a4-4ea3-98c9-4b691f462a16"
      },
      "execution_count": null,
      "outputs": [
        {
          "output_type": "execute_result",
          "data": {
            "text/plain": [
              "2345.092148130242"
            ]
          },
          "metadata": {},
          "execution_count": 36
        }
      ]
    },
    {
      "cell_type": "markdown",
      "source": [
        "Коэффициенты при разных параметрах модели."
      ],
      "metadata": {
        "id": "WQ7-SgZiB7t2"
      }
    },
    {
      "cell_type": "code",
      "source": [
        "model.coef_"
      ],
      "metadata": {
        "colab": {
          "base_uri": "https://localhost:8080/"
        },
        "id": "8kzYhHumCGY0",
        "outputId": "5ad87dd8-7060-493e-e7c7-2745de4c89c0"
      },
      "execution_count": null,
      "outputs": [
        {
          "output_type": "execute_result",
          "data": {
            "text/plain": [
              "array([ -172.11569299,  -374.37222323,  4023.85335237,  1572.42566985,\n",
              "       -2329.14932375, -1104.09012521, -2163.03957326,  2565.73911693,\n",
              "        1332.09887495,  3700.46286547,  -378.55607422,   839.5998669 ])"
            ]
          },
          "metadata": {},
          "execution_count": 37
        }
      ]
    },
    {
      "cell_type": "markdown",
      "source": [
        "Парамерты."
      ],
      "metadata": {
        "id": "V9dVXJB6tNs6"
      }
    },
    {
      "cell_type": "code",
      "source": [
        "transformer.transformers_[1][1].get_feature_names_out()"
      ],
      "metadata": {
        "colab": {
          "base_uri": "https://localhost:8080/"
        },
        "id": "78IMmn1lsqO1",
        "outputId": "ea81bdb6-c761-4853-ddfe-8322b75fb3d5"
      },
      "execution_count": null,
      "outputs": [
        {
          "output_type": "execute_result",
          "data": {
            "text/plain": [
              "array(['carbody_convertible', 'carbody_hardtop', 'carbody_hatchback',\n",
              "       'carbody_sedan', 'carbody_wagon'], dtype=object)"
            ]
          },
          "metadata": {},
          "execution_count": 39
        }
      ]
    },
    {
      "cell_type": "markdown",
      "source": [
        "Есть некоторые поля, которые надо убрать: drop"
      ],
      "metadata": {
        "id": "OFCwDG0F1FsL"
      }
    },
    {
      "cell_type": "code",
      "source": [
        "transformer.transformers_"
      ],
      "metadata": {
        "colab": {
          "base_uri": "https://localhost:8080/"
        },
        "id": "_0S3PUTn0gWu",
        "outputId": "246782ce-228e-4a98-fe06-60a2b3331141"
      },
      "execution_count": null,
      "outputs": [
        {
          "output_type": "execute_result",
          "data": {
            "text/plain": [
              "[('ordinalencoder', OrdinalEncoder(), ['Brand', 'doornumber']),\n",
              " ('onehotencoder', OneHotEncoder(), ['carbody']),\n",
              " ('standardscaler',\n",
              "  StandardScaler(),\n",
              "  ['enginesize', 'wheelbase', 'horsepower', 'highwaympg', 'compressionratio']),\n",
              " ('remainder',\n",
              "  'drop',\n",
              "  [0, 1, 2, 3, 4, 7, 8, 10, 11, 12, 13, 14, 15, 17, 18, 19, 22, 23, 25])]"
            ]
          },
          "metadata": {},
          "execution_count": 40
        }
      ]
    },
    {
      "cell_type": "code",
      "source": [
        "def get_feature_names(trans):\n",
        "  res=[]\n",
        "  for t in trans.transformers_:\n",
        "    if isinstance(t[1], OneHotEncoder):\n",
        "        res.extend(t[1].get_feature_names_out())\n",
        "    elif t[1]=='drop':\n",
        "        pass\n",
        "    else:\n",
        "      res.extend(t[2])\n",
        "  return res\n",
        "\n",
        "feature_names=get_feature_names(transformer)\n",
        "feature_names"
      ],
      "metadata": {
        "colab": {
          "base_uri": "https://localhost:8080/"
        },
        "id": "JaTUjyNA1yZF",
        "outputId": "e37d749a-aa63-4c3d-bfa4-0e5d9f7f23d5"
      },
      "execution_count": null,
      "outputs": [
        {
          "output_type": "execute_result",
          "data": {
            "text/plain": [
              "['Brand',\n",
              " 'doornumber',\n",
              " 'carbody_convertible',\n",
              " 'carbody_hardtop',\n",
              " 'carbody_hatchback',\n",
              " 'carbody_sedan',\n",
              " 'carbody_wagon',\n",
              " 'enginesize',\n",
              " 'wheelbase',\n",
              " 'horsepower',\n",
              " 'highwaympg',\n",
              " 'compressionratio']"
            ]
          },
          "metadata": {},
          "execution_count": 42
        }
      ]
    },
    {
      "cell_type": "code",
      "source": [
        "list(zip(feature_names, model.coef_))"
      ],
      "metadata": {
        "colab": {
          "base_uri": "https://localhost:8080/"
        },
        "id": "ZBqqm-Ef1fFn",
        "outputId": "c1316907-66a5-4ade-a7a1-0abc2f218f31"
      },
      "execution_count": null,
      "outputs": [
        {
          "output_type": "execute_result",
          "data": {
            "text/plain": [
              "[('Brand', -172.1156929934895),\n",
              " ('doornumber', -374.37222323052674),\n",
              " ('carbody_convertible', 4023.853352366756),\n",
              " ('carbody_hardtop', 1572.4256698523134),\n",
              " ('carbody_hatchback', -2329.1493237488644),\n",
              " ('carbody_sedan', -1104.090125212026),\n",
              " ('carbody_wagon', -2163.039573258183),\n",
              " ('enginesize', 2565.739116933516),\n",
              " ('wheelbase', 1332.0988749522196),\n",
              " ('horsepower', 3700.4628654734283),\n",
              " ('highwaympg', -378.55607422341177),\n",
              " ('compressionratio', 839.5998668950655)]"
            ]
          },
          "metadata": {},
          "execution_count": 44
        }
      ]
    }
  ]
}